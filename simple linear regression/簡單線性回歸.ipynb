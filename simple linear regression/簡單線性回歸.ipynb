{
  "nbformat": 4,
  "nbformat_minor": 0,
  "metadata": {
    "colab": {
      "provenance": [],
      "gpuType": "T4"
    },
    "kernelspec": {
      "name": "python3",
      "display_name": "Python 3"
    },
    "language_info": {
      "name": "python"
    },
    "accelerator": "GPU"
  },
  "cells": [
    {
      "cell_type": "markdown",
      "source": [
        "Problem\n",
        "\n",
        "1.程式碼跑多次中，沒有把測試資料放進去，覺得模型訓練不應該包含測試資料才對。\n",
        "\n",
        "2.預測結果跟真實資料差距多大是不ok？怎麼判斷，用準確率去算嗎"
      ],
      "metadata": {
        "id": "K7i8DsL8xghp"
      }
    },
    {
      "cell_type": "markdown",
      "source": [
        "# 新增區段"
      ],
      "metadata": {
        "id": "QQtrGjXvzn2t"
      }
    },
    {
      "cell_type": "code",
      "execution_count": null,
      "metadata": {
        "colab": {
          "base_uri": "https://localhost:8080/",
          "height": 1000
        },
        "id": "k8AUfqjN4CIn",
        "outputId": "42ee56b7-6eed-4d7d-e1a8-dec18d734bd1"
      },
      "outputs": [
        {
          "output_type": "execute_result",
          "data": {
            "text/plain": [
              "    YearsExperience  Salary\n",
              "0               0.3    36.2\n",
              "1               0.6    36.6\n",
              "2               0.8    42.8\n",
              "3               1.1    39.3\n",
              "4               1.3    46.2\n",
              "5               1.5    37.7\n",
              "6               2.0    43.5\n",
              "7               2.2    39.8\n",
              "8               2.9    56.6\n",
              "9               3.0    60.1\n",
              "10              3.2    54.4\n",
              "11              3.2    64.4\n",
              "12              3.7    57.1\n",
              "13              3.9    63.2\n",
              "14              4.0    55.7\n",
              "15              4.0    56.9\n",
              "16              4.1    57.0\n",
              "17              4.5    61.1\n",
              "18              4.9    67.9\n",
              "19              5.1    66.0\n",
              "20              5.3    83.0\n",
              "21              5.9    81.3\n",
              "22              6.0    93.9\n",
              "23              6.8    91.7\n",
              "24              7.1    98.2\n",
              "25              7.9   101.3\n",
              "26              8.2   113.8\n",
              "27              8.7   109.4\n",
              "28              9.0   105.5\n",
              "29              9.5   116.9\n",
              "30              9.6   112.6\n",
              "31             10.3   122.3\n",
              "32             10.5   121.8"
            ],
            "text/html": [
              "\n",
              "\n",
              "  <div id=\"df-cbd98174-4360-41ff-9618-bc87f81b9cf3\">\n",
              "    <div class=\"colab-df-container\">\n",
              "      <div>\n",
              "<style scoped>\n",
              "    .dataframe tbody tr th:only-of-type {\n",
              "        vertical-align: middle;\n",
              "    }\n",
              "\n",
              "    .dataframe tbody tr th {\n",
              "        vertical-align: top;\n",
              "    }\n",
              "\n",
              "    .dataframe thead th {\n",
              "        text-align: right;\n",
              "    }\n",
              "</style>\n",
              "<table border=\"1\" class=\"dataframe\">\n",
              "  <thead>\n",
              "    <tr style=\"text-align: right;\">\n",
              "      <th></th>\n",
              "      <th>YearsExperience</th>\n",
              "      <th>Salary</th>\n",
              "    </tr>\n",
              "  </thead>\n",
              "  <tbody>\n",
              "    <tr>\n",
              "      <th>0</th>\n",
              "      <td>0.3</td>\n",
              "      <td>36.2</td>\n",
              "    </tr>\n",
              "    <tr>\n",
              "      <th>1</th>\n",
              "      <td>0.6</td>\n",
              "      <td>36.6</td>\n",
              "    </tr>\n",
              "    <tr>\n",
              "      <th>2</th>\n",
              "      <td>0.8</td>\n",
              "      <td>42.8</td>\n",
              "    </tr>\n",
              "    <tr>\n",
              "      <th>3</th>\n",
              "      <td>1.1</td>\n",
              "      <td>39.3</td>\n",
              "    </tr>\n",
              "    <tr>\n",
              "      <th>4</th>\n",
              "      <td>1.3</td>\n",
              "      <td>46.2</td>\n",
              "    </tr>\n",
              "    <tr>\n",
              "      <th>5</th>\n",
              "      <td>1.5</td>\n",
              "      <td>37.7</td>\n",
              "    </tr>\n",
              "    <tr>\n",
              "      <th>6</th>\n",
              "      <td>2.0</td>\n",
              "      <td>43.5</td>\n",
              "    </tr>\n",
              "    <tr>\n",
              "      <th>7</th>\n",
              "      <td>2.2</td>\n",
              "      <td>39.8</td>\n",
              "    </tr>\n",
              "    <tr>\n",
              "      <th>8</th>\n",
              "      <td>2.9</td>\n",
              "      <td>56.6</td>\n",
              "    </tr>\n",
              "    <tr>\n",
              "      <th>9</th>\n",
              "      <td>3.0</td>\n",
              "      <td>60.1</td>\n",
              "    </tr>\n",
              "    <tr>\n",
              "      <th>10</th>\n",
              "      <td>3.2</td>\n",
              "      <td>54.4</td>\n",
              "    </tr>\n",
              "    <tr>\n",
              "      <th>11</th>\n",
              "      <td>3.2</td>\n",
              "      <td>64.4</td>\n",
              "    </tr>\n",
              "    <tr>\n",
              "      <th>12</th>\n",
              "      <td>3.7</td>\n",
              "      <td>57.1</td>\n",
              "    </tr>\n",
              "    <tr>\n",
              "      <th>13</th>\n",
              "      <td>3.9</td>\n",
              "      <td>63.2</td>\n",
              "    </tr>\n",
              "    <tr>\n",
              "      <th>14</th>\n",
              "      <td>4.0</td>\n",
              "      <td>55.7</td>\n",
              "    </tr>\n",
              "    <tr>\n",
              "      <th>15</th>\n",
              "      <td>4.0</td>\n",
              "      <td>56.9</td>\n",
              "    </tr>\n",
              "    <tr>\n",
              "      <th>16</th>\n",
              "      <td>4.1</td>\n",
              "      <td>57.0</td>\n",
              "    </tr>\n",
              "    <tr>\n",
              "      <th>17</th>\n",
              "      <td>4.5</td>\n",
              "      <td>61.1</td>\n",
              "    </tr>\n",
              "    <tr>\n",
              "      <th>18</th>\n",
              "      <td>4.9</td>\n",
              "      <td>67.9</td>\n",
              "    </tr>\n",
              "    <tr>\n",
              "      <th>19</th>\n",
              "      <td>5.1</td>\n",
              "      <td>66.0</td>\n",
              "    </tr>\n",
              "    <tr>\n",
              "      <th>20</th>\n",
              "      <td>5.3</td>\n",
              "      <td>83.0</td>\n",
              "    </tr>\n",
              "    <tr>\n",
              "      <th>21</th>\n",
              "      <td>5.9</td>\n",
              "      <td>81.3</td>\n",
              "    </tr>\n",
              "    <tr>\n",
              "      <th>22</th>\n",
              "      <td>6.0</td>\n",
              "      <td>93.9</td>\n",
              "    </tr>\n",
              "    <tr>\n",
              "      <th>23</th>\n",
              "      <td>6.8</td>\n",
              "      <td>91.7</td>\n",
              "    </tr>\n",
              "    <tr>\n",
              "      <th>24</th>\n",
              "      <td>7.1</td>\n",
              "      <td>98.2</td>\n",
              "    </tr>\n",
              "    <tr>\n",
              "      <th>25</th>\n",
              "      <td>7.9</td>\n",
              "      <td>101.3</td>\n",
              "    </tr>\n",
              "    <tr>\n",
              "      <th>26</th>\n",
              "      <td>8.2</td>\n",
              "      <td>113.8</td>\n",
              "    </tr>\n",
              "    <tr>\n",
              "      <th>27</th>\n",
              "      <td>8.7</td>\n",
              "      <td>109.4</td>\n",
              "    </tr>\n",
              "    <tr>\n",
              "      <th>28</th>\n",
              "      <td>9.0</td>\n",
              "      <td>105.5</td>\n",
              "    </tr>\n",
              "    <tr>\n",
              "      <th>29</th>\n",
              "      <td>9.5</td>\n",
              "      <td>116.9</td>\n",
              "    </tr>\n",
              "    <tr>\n",
              "      <th>30</th>\n",
              "      <td>9.6</td>\n",
              "      <td>112.6</td>\n",
              "    </tr>\n",
              "    <tr>\n",
              "      <th>31</th>\n",
              "      <td>10.3</td>\n",
              "      <td>122.3</td>\n",
              "    </tr>\n",
              "    <tr>\n",
              "      <th>32</th>\n",
              "      <td>10.5</td>\n",
              "      <td>121.8</td>\n",
              "    </tr>\n",
              "  </tbody>\n",
              "</table>\n",
              "</div>\n",
              "      <button class=\"colab-df-convert\" onclick=\"convertToInteractive('df-cbd98174-4360-41ff-9618-bc87f81b9cf3')\"\n",
              "              title=\"Convert this dataframe to an interactive table.\"\n",
              "              style=\"display:none;\">\n",
              "\n",
              "  <svg xmlns=\"http://www.w3.org/2000/svg\" height=\"24px\"viewBox=\"0 0 24 24\"\n",
              "       width=\"24px\">\n",
              "    <path d=\"M0 0h24v24H0V0z\" fill=\"none\"/>\n",
              "    <path d=\"M18.56 5.44l.94 2.06.94-2.06 2.06-.94-2.06-.94-.94-2.06-.94 2.06-2.06.94zm-11 1L8.5 8.5l.94-2.06 2.06-.94-2.06-.94L8.5 2.5l-.94 2.06-2.06.94zm10 10l.94 2.06.94-2.06 2.06-.94-2.06-.94-.94-2.06-.94 2.06-2.06.94z\"/><path d=\"M17.41 7.96l-1.37-1.37c-.4-.4-.92-.59-1.43-.59-.52 0-1.04.2-1.43.59L10.3 9.45l-7.72 7.72c-.78.78-.78 2.05 0 2.83L4 21.41c.39.39.9.59 1.41.59.51 0 1.02-.2 1.41-.59l7.78-7.78 2.81-2.81c.8-.78.8-2.07 0-2.86zM5.41 20L4 18.59l7.72-7.72 1.47 1.35L5.41 20z\"/>\n",
              "  </svg>\n",
              "      </button>\n",
              "\n",
              "\n",
              "\n",
              "    <div id=\"df-def63bd4-d372-40e6-90ad-9211f18a1f54\">\n",
              "      <button class=\"colab-df-quickchart\" onclick=\"quickchart('df-def63bd4-d372-40e6-90ad-9211f18a1f54')\"\n",
              "              title=\"Suggest charts.\"\n",
              "              style=\"display:none;\">\n",
              "\n",
              "<svg xmlns=\"http://www.w3.org/2000/svg\" height=\"24px\"viewBox=\"0 0 24 24\"\n",
              "     width=\"24px\">\n",
              "    <g>\n",
              "        <path d=\"M19 3H5c-1.1 0-2 .9-2 2v14c0 1.1.9 2 2 2h14c1.1 0 2-.9 2-2V5c0-1.1-.9-2-2-2zM9 17H7v-7h2v7zm4 0h-2V7h2v10zm4 0h-2v-4h2v4z\"/>\n",
              "    </g>\n",
              "</svg>\n",
              "      </button>\n",
              "    </div>\n",
              "\n",
              "<style>\n",
              "  .colab-df-quickchart {\n",
              "    background-color: #E8F0FE;\n",
              "    border: none;\n",
              "    border-radius: 50%;\n",
              "    cursor: pointer;\n",
              "    display: none;\n",
              "    fill: #1967D2;\n",
              "    height: 32px;\n",
              "    padding: 0 0 0 0;\n",
              "    width: 32px;\n",
              "  }\n",
              "\n",
              "  .colab-df-quickchart:hover {\n",
              "    background-color: #E2EBFA;\n",
              "    box-shadow: 0px 1px 2px rgba(60, 64, 67, 0.3), 0px 1px 3px 1px rgba(60, 64, 67, 0.15);\n",
              "    fill: #174EA6;\n",
              "  }\n",
              "\n",
              "  [theme=dark] .colab-df-quickchart {\n",
              "    background-color: #3B4455;\n",
              "    fill: #D2E3FC;\n",
              "  }\n",
              "\n",
              "  [theme=dark] .colab-df-quickchart:hover {\n",
              "    background-color: #434B5C;\n",
              "    box-shadow: 0px 1px 3px 1px rgba(0, 0, 0, 0.15);\n",
              "    filter: drop-shadow(0px 1px 2px rgba(0, 0, 0, 0.3));\n",
              "    fill: #FFFFFF;\n",
              "  }\n",
              "</style>\n",
              "\n",
              "    <script>\n",
              "      async function quickchart(key) {\n",
              "        const containerElement = document.querySelector('#' + key);\n",
              "        const charts = await google.colab.kernel.invokeFunction(\n",
              "            'suggestCharts', [key], {});\n",
              "      }\n",
              "    </script>\n",
              "\n",
              "      <script>\n",
              "\n",
              "function displayQuickchartButton(domScope) {\n",
              "  let quickchartButtonEl =\n",
              "    domScope.querySelector('#df-def63bd4-d372-40e6-90ad-9211f18a1f54 button.colab-df-quickchart');\n",
              "  quickchartButtonEl.style.display =\n",
              "    google.colab.kernel.accessAllowed ? 'block' : 'none';\n",
              "}\n",
              "\n",
              "        displayQuickchartButton(document);\n",
              "      </script>\n",
              "      <style>\n",
              "    .colab-df-container {\n",
              "      display:flex;\n",
              "      flex-wrap:wrap;\n",
              "      gap: 12px;\n",
              "    }\n",
              "\n",
              "    .colab-df-convert {\n",
              "      background-color: #E8F0FE;\n",
              "      border: none;\n",
              "      border-radius: 50%;\n",
              "      cursor: pointer;\n",
              "      display: none;\n",
              "      fill: #1967D2;\n",
              "      height: 32px;\n",
              "      padding: 0 0 0 0;\n",
              "      width: 32px;\n",
              "    }\n",
              "\n",
              "    .colab-df-convert:hover {\n",
              "      background-color: #E2EBFA;\n",
              "      box-shadow: 0px 1px 2px rgba(60, 64, 67, 0.3), 0px 1px 3px 1px rgba(60, 64, 67, 0.15);\n",
              "      fill: #174EA6;\n",
              "    }\n",
              "\n",
              "    [theme=dark] .colab-df-convert {\n",
              "      background-color: #3B4455;\n",
              "      fill: #D2E3FC;\n",
              "    }\n",
              "\n",
              "    [theme=dark] .colab-df-convert:hover {\n",
              "      background-color: #434B5C;\n",
              "      box-shadow: 0px 1px 3px 1px rgba(0, 0, 0, 0.15);\n",
              "      filter: drop-shadow(0px 1px 2px rgba(0, 0, 0, 0.3));\n",
              "      fill: #FFFFFF;\n",
              "    }\n",
              "  </style>\n",
              "\n",
              "      <script>\n",
              "        const buttonEl =\n",
              "          document.querySelector('#df-cbd98174-4360-41ff-9618-bc87f81b9cf3 button.colab-df-convert');\n",
              "        buttonEl.style.display =\n",
              "          google.colab.kernel.accessAllowed ? 'block' : 'none';\n",
              "\n",
              "        async function convertToInteractive(key) {\n",
              "          const element = document.querySelector('#df-cbd98174-4360-41ff-9618-bc87f81b9cf3');\n",
              "          const dataTable =\n",
              "            await google.colab.kernel.invokeFunction('convertToInteractive',\n",
              "                                                     [key], {});\n",
              "          if (!dataTable) return;\n",
              "\n",
              "          const docLinkHtml = 'Like what you see? Visit the ' +\n",
              "            '<a target=\"_blank\" href=https://colab.research.google.com/notebooks/data_table.ipynb>data table notebook</a>'\n",
              "            + ' to learn more about interactive tables.';\n",
              "          element.innerHTML = '';\n",
              "          dataTable['output_type'] = 'display_data';\n",
              "          await google.colab.output.renderOutput(dataTable, element);\n",
              "          const docLink = document.createElement('div');\n",
              "          docLink.innerHTML = docLinkHtml;\n",
              "          element.appendChild(docLink);\n",
              "        }\n",
              "      </script>\n",
              "    </div>\n",
              "  </div>\n"
            ]
          },
          "metadata": {},
          "execution_count": 172
        }
      ],
      "source": [
        "import pandas as pd\n",
        "url=\"https://raw.githubusercontent.com/GrandmaCan/ML/main/Resgression/Salary_Data.csv\"\n",
        "data=pd.read_csv(url)\n",
        "data"
      ]
    },
    {
      "cell_type": "code",
      "source": [
        "#訓練集&測試集\n",
        "\n",
        "from sklearn.model_selection import train_test_split\n",
        "import torch\n",
        "x=data[\"YearsExperience\"]\n",
        "y=data[\"Salary\"]\n",
        "\n",
        "x_train,x_test,y_train,y_test=train_test_split(x,y,test_size=0.2)\n",
        "\n",
        "#把資料丟進模型訓練會發現資料型態不同。去看模型的dtype是多少model.linear_layer.weight.dtype，這邊的資料型態也跟著修改\n",
        "#model.linear_layer.weight從model.state_dict()得知\n",
        "x_train=torch.tensor(x_train.values,dtype=torch.float32)\n",
        "x_test=torch.tensor(x_test.values,dtype=torch.float32)\n",
        "y_train=torch.tensor(y_train.values,dtype=torch.float32)\n",
        "y_test=torch.tensor(y_test.values,dtype=torch.float32)"
      ],
      "metadata": {
        "id": "tg6bRZKS6cFy"
      },
      "execution_count": null,
      "outputs": []
    },
    {
      "cell_type": "code",
      "source": [
        "#使用pytorch建立模型，並使用GPU加速運算\n",
        "#參考3-3是用sklearn建立模型\n",
        "\n",
        "from torch import nn\n",
        "class LinearRegressionModel(nn.Module):\n",
        "  def __init__(self):\n",
        "    super().__init__()\n",
        "    self.linear_layer=nn.Linear(in_features=1,out_features=1)\n",
        "  def forward(self,x):\n",
        "    return self.linear_layer(x)\n",
        "\n",
        "model = LinearRegressionModel()\n",
        "model=model.to(\"cuda\")"
      ],
      "metadata": {
        "id": "D5LLe7EF8zlG"
      },
      "execution_count": null,
      "outputs": []
    },
    {
      "cell_type": "code",
      "source": [
        "#把訓練跟測試集資料都設定到gpu上\n",
        "x_train=x_train.to(\"cuda\")\n",
        "x_test=x_test.to(\"cuda\")\n",
        "y_train=y_train.to(\"cuda\")\n",
        "y_test=y_test.to(\"cuda\")"
      ],
      "metadata": {
        "id": "tquFxBsHae3p"
      },
      "execution_count": null,
      "outputs": []
    },
    {
      "cell_type": "code",
      "source": [
        "#把訓練集的資料丟進模型訓練\n",
        "#計算損失函數\n",
        "\n",
        "#把資料丟進模型訓練後，會發現矩陣形狀不符合\n",
        "x_train=x_train.reshape(26,1)\n",
        "#沒有加這個計算cost_fn會出現warning，兩個shpae不同\n",
        "y_train=y_train.reshape(26,1)\n",
        "y_pred=model(x_train)\n",
        "\n",
        "cost_fn=nn.MSELoss()\n",
        "cost=cost_fn(y_pred,y_train)\n",
        "print(cost)\n",
        "print(model.state_dict())\n",
        "\n",
        "#發現不同裝置，要一起運算會發生錯誤。model在gpu上，訓練跟測試集都在cpu上，上面再加個程式碼。\n",
        "#RuntimeError: Expected all tensors to be on the same device, but found at least two devices, cuda:0 and cpu!"
      ],
      "metadata": {
        "colab": {
          "base_uri": "https://localhost:8080/"
        },
        "id": "O2JioVFHIItQ",
        "outputId": "8e5f1350-b514-4303-a66c-f62337b939ee"
      },
      "execution_count": null,
      "outputs": [
        {
          "output_type": "stream",
          "name": "stdout",
          "text": [
            "tensor(5643.3740, device='cuda:0', grad_fn=<MseLossBackward0>)\n",
            "OrderedDict([('linear_layer.weight', tensor([[0.6899]], device='cuda:0')), ('linear_layer.bias', tensor([-0.9757], device='cuda:0'))])\n"
          ]
        }
      ]
    },
    {
      "cell_type": "code",
      "source": [
        "#設定優化器，觀察初始w,b在計算梯度後的cost下降\n",
        "optimizer=torch.optim.SGD(params=model.parameters(),lr=0.01)\n",
        "optimizer.zero_grad()\n",
        "cost.backward()\n",
        "optimizer.step()\n",
        "\n",
        "y_pred=model(x_train)\n",
        "cost=cost_fn(y_pred,y_train)\n",
        "print(cost)\n",
        "print(model.state_dict())"
      ],
      "metadata": {
        "colab": {
          "base_uri": "https://localhost:8080/"
        },
        "id": "7xqan6ueOhND",
        "outputId": "4cfedcd9-73c3-4e66-c9ee-521ad8824385"
      },
      "execution_count": null,
      "outputs": [
        {
          "output_type": "stream",
          "name": "stdout",
          "text": [
            "tensor(662.3372, device='cuda:0', grad_fn=<MseLossBackward0>)\n",
            "OrderedDict([('linear_layer.weight', tensor([[9.3614]], device='cuda:0')), ('linear_layer.bias', tensor([0.4378], device='cuda:0'))])\n"
          ]
        }
      ]
    },
    {
      "cell_type": "code",
      "source": [
        "#跑多次，找到最佳w,b\n",
        "\n",
        "cost_hist=[]\n",
        "for epoch in range(10000):\n",
        "\n",
        "  #訓練階段\n",
        "  model.train()\n",
        "\n",
        "  y_pred=model(x_train)\n",
        "  cost=cost_fn(y_pred,y_train)\n",
        "\n",
        "  #課程：不能把設定在gpu上的tensor轉換成numpy。所以先設定到cpu,再設定numpy。detach是為了把梯度消除，才有辦法繪製圖形\n",
        "  #cost_hist.append(train_cost.cpu().detach().numpy())\n",
        "\n",
        "  #原本寫的，在畫圖時會出錯，需要先把它轉到cpu上才有辦法繪圖\n",
        "  # cost_hist.append(cost)\n",
        "  #加上cpu後還是出現以下error。所以再加上detach\n",
        "  #cost_hist.append(cost.cpu())\n",
        "  #RuntimeError: Can't call numpy() on Tensor that requires grad. Use tensor.detach().numpy() instead.\n",
        "\n",
        "  cost_hist.append(cost.cpu().detach())\n",
        "\n",
        "  optimizer.zero_grad()\n",
        "  cost.backward()\n",
        "  optimizer.step()\n",
        "\n",
        "  #課程這裡有加入eval的，觀察test的cost下降。但我覺得訓練模型應該拿訓練階段訓練就好，測試集是最後再做測試\n",
        "\n",
        "  if epoch%1000==0:\n",
        "    print(f\"epoch:{epoch:5},  cost:{cost: .4e}\")\n"
      ],
      "metadata": {
        "colab": {
          "base_uri": "https://localhost:8080/"
        },
        "id": "BmIp6qGUbX1-",
        "outputId": "812932c9-950e-4ce9-9da2-57b996f4823c"
      },
      "execution_count": null,
      "outputs": [
        {
          "output_type": "stream",
          "name": "stdout",
          "text": [
            "epoch:    0,  cost: 6.6234e+02\n",
            "epoch: 1000,  cost: 2.4584e+01\n",
            "epoch: 2000,  cost: 2.4577e+01\n",
            "epoch: 3000,  cost: 2.4577e+01\n",
            "epoch: 4000,  cost: 2.4577e+01\n",
            "epoch: 5000,  cost: 2.4577e+01\n",
            "epoch: 6000,  cost: 2.4577e+01\n",
            "epoch: 7000,  cost: 2.4577e+01\n",
            "epoch: 8000,  cost: 2.4577e+01\n",
            "epoch: 9000,  cost: 2.4577e+01\n"
          ]
        }
      ]
    },
    {
      "cell_type": "code",
      "source": [
        "#繪製圖形\n",
        "import matplotlib.pyplot as plt\n",
        "plt.plot(range(0,10000),cost_hist)\n",
        "plt.title(\"train cost\")\n",
        "plt.xlabel(\"epoch\")\n",
        "plt.ylabel(\"cost\")\n",
        "\n",
        "#plt.plot(range(0,10000),cost_hist)出現error\n",
        "#在gpu上的tensor無法轉成，要先轉成cpu\n",
        "#TypeError: can't convert cuda:0 device type tensor to numpy. Use Tensor.cpu() to copy the tensor to host memory first."
      ],
      "metadata": {
        "colab": {
          "base_uri": "https://localhost:8080/",
          "height": 489
        },
        "id": "3l5nLnYFq7XS",
        "outputId": "943af2d5-7956-484c-a809-9f596b75bfce"
      },
      "execution_count": null,
      "outputs": [
        {
          "output_type": "execute_result",
          "data": {
            "text/plain": [
              "Text(0, 0.5, 'cost')"
            ]
          },
          "metadata": {},
          "execution_count": 179
        },
        {
          "output_type": "display_data",
          "data": {
            "text/plain": [
              "<Figure size 640x480 with 1 Axes>"
            ],
            "image/png": "[encoded data removed]"
          },
          "metadata": {}
        }
      ]
    },
    {
      "cell_type": "code",
      "source": [
        "model.state_dict()"
      ],
      "metadata": {
        "colab": {
          "base_uri": "https://localhost:8080/"
        },
        "id": "dbBACpuOksJI",
        "outputId": "66eb088a-b80f-4499-9979-b853694e3bf5"
      },
      "execution_count": null,
      "outputs": [
        {
          "output_type": "execute_result",
          "data": {
            "text/plain": [
              "OrderedDict([('linear_layer.weight', tensor([[9.0363]], device='cuda:0')),\n",
              "             ('linear_layer.bias', tensor([27.3232], device='cuda:0'))])"
            ]
          },
          "metadata": {},
          "execution_count": 180
        }
      ]
    },
    {
      "cell_type": "code",
      "source": [
        "#把大家形狀都改成一樣\n",
        "x_train=x_train.reshape(-1,1)\n",
        "y_train=y_train.reshape(-1,1)\n",
        "x_test=x_test.reshape(-1,1)\n",
        "y_test=y_test.reshape(-1,1)"
      ],
      "metadata": {
        "id": "jSl46npom1Fn"
      },
      "execution_count": null,
      "outputs": []
    },
    {
      "cell_type": "code",
      "source": [
        "#觀察測試資料在模型上的表現\n",
        "\n",
        "#測試階段\n",
        "model.eval()\n",
        "with torch.inference_mode():\n",
        "  y_pred=model(x_test)\n",
        "\n",
        "y_pred"
      ],
      "metadata": {
        "colab": {
          "base_uri": "https://localhost:8080/"
        },
        "id": "AiD71MnklDZa",
        "outputId": "eb705b19-a16c-40eb-9cef-d55cf89095cb"
      },
      "execution_count": null,
      "outputs": [
        {
          "output_type": "execute_result",
          "data": {
            "text/plain": [
              "tensor([[ 91.4811],\n",
              "        [ 32.7450],\n",
              "        [ 81.5412],\n",
              "        [101.4211],\n",
              "        [ 30.0341],\n",
              "        [ 53.5286],\n",
              "        [ 63.4685]], device='cuda:0')"
            ]
          },
          "metadata": {},
          "execution_count": 182
        }
      ]
    },
    {
      "cell_type": "code",
      "source": [
        "#觀察測試集丟到模型訓練出來的預測值，跟真實值的差距\n",
        "y_pred,y_test"
      ],
      "metadata": {
        "colab": {
          "base_uri": "https://localhost:8080/"
        },
        "id": "4yiTtVKClbtg",
        "outputId": "e81da5b3-1f35-4bd8-8cab-0021a0dfd783"
      },
      "execution_count": null,
      "outputs": [
        {
          "output_type": "execute_result",
          "data": {
            "text/plain": [
              "(tensor([[ 91.4811],\n",
              "         [ 32.7450],\n",
              "         [ 81.5412],\n",
              "         [101.4211],\n",
              "         [ 30.0341],\n",
              "         [ 53.5286],\n",
              "         [ 63.4685]], device='cuda:0'),\n",
              " tensor([[ 98.2000],\n",
              "         [ 36.6000],\n",
              "         [ 93.9000],\n",
              "         [113.8000],\n",
              "         [ 36.2000],\n",
              "         [ 56.6000],\n",
              "         [ 55.7000]], device='cuda:0'))"
            ]
          },
          "metadata": {},
          "execution_count": 183
        }
      ]
    }
  ]
}