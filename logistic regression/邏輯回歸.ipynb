{
  "cells": [
    {
      "cell_type": "markdown",
      "source": [
        "**問題（結果出錯)：**\n",
        "\n",
        "1.多次更新，最後的cost為什麼不是cost_hist?不是已經被加進cost_hist了嗎？\n",
        "\n",
        "2.最後測試階段是哪裡出問題了，怎麼跑不出accuracy?反而是千位數字"
      ],
      "metadata": {
        "id": "0OhK3cZ6tYAp"
      }
    },
    {
      "cell_type": "markdown",
      "metadata": {
        "id": "-XeX5fbF1B0T"
      },
      "source": [
        "colab3-1帶數學公式,colab3-2sklearn套件,5-1pytorch深度學習概念\n",
        "\n",
        "深度學習概念：多個輸入(可以看成多元線性回歸，多個神經元)，經過sigmoind，把值凹到01之間，再加上一個b，輸出一個結果\n",
        "\n",
        "一、定義模型"
      ]
    },
    {
      "cell_type": "code",
      "execution_count": 1,
      "metadata": {
        "colab": {
          "base_uri": "https://localhost:8080/",
          "height": 419
        },
        "id": "eD0_S9_e0y75",
        "outputId": "d53af5f9-ed3d-45f9-e26e-51bf8b947b66"
      },
      "outputs": [
        {
          "output_type": "execute_result",
          "data": {
            "text/plain": [
              "     Age  Weight  BloodSugar Gender  Diabetes\n",
              "0     25     119       130.8     男生         1\n",
              "1     66     102       128.1     女生         1\n",
              "2     59      65       103.9     男生         0\n",
              "3     46     117        94.8     女生         0\n",
              "4     45      79        57.8     男生         0\n",
              "..   ...     ...         ...    ...       ...\n",
              "395   72      63        97.1     女生         0\n",
              "396   22     117       156.7     女生         1\n",
              "397   31      76       119.0     男生         0\n",
              "398   36      65        96.3     女生         1\n",
              "399   38      75       106.3     男生         0\n",
              "\n",
              "[400 rows x 5 columns]"
            ],
            "text/html": [
              "\n",
              "\n",
              "  <div id=\"df-da1770f2-02e3-45f1-9a6d-c05a3754ebad\">\n",
              "    <div class=\"colab-df-container\">\n",
              "      <div>\n",
              "<style scoped>\n",
              "    .dataframe tbody tr th:only-of-type {\n",
              "        vertical-align: middle;\n",
              "    }\n",
              "\n",
              "    .dataframe tbody tr th {\n",
              "        vertical-align: top;\n",
              "    }\n",
              "\n",
              "    .dataframe thead th {\n",
              "        text-align: right;\n",
              "    }\n",
              "</style>\n",
              "<table border=\"1\" class=\"dataframe\">\n",
              "  <thead>\n",
              "    <tr style=\"text-align: right;\">\n",
              "      <th></th>\n",
              "      <th>Age</th>\n",
              "      <th>Weight</th>\n",
              "      <th>BloodSugar</th>\n",
              "      <th>Gender</th>\n",
              "      <th>Diabetes</th>\n",
              "    </tr>\n",
              "  </thead>\n",
              "  <tbody>\n",
              "    <tr>\n",
              "      <th>0</th>\n",
              "      <td>25</td>\n",
              "      <td>119</td>\n",
              "      <td>130.8</td>\n",
              "      <td>男生</td>\n",
              "      <td>1</td>\n",
              "    </tr>\n",
              "    <tr>\n",
              "      <th>1</th>\n",
              "      <td>66</td>\n",
              "      <td>102</td>\n",
              "      <td>128.1</td>\n",
              "      <td>女生</td>\n",
              "      <td>1</td>\n",
              "    </tr>\n",
              "    <tr>\n",
              "      <th>2</th>\n",
              "      <td>59</td>\n",
              "      <td>65</td>\n",
              "      <td>103.9</td>\n",
              "      <td>男生</td>\n",
              "      <td>0</td>\n",
              "    </tr>\n",
              "    <tr>\n",
              "      <th>3</th>\n",
              "      <td>46</td>\n",
              "      <td>117</td>\n",
              "      <td>94.8</td>\n",
              "      <td>女生</td>\n",
              "      <td>0</td>\n",
              "    </tr>\n",
              "    <tr>\n",
              "      <th>4</th>\n",
              "      <td>45</td>\n",
              "      <td>79</td>\n",
              "      <td>57.8</td>\n",
              "      <td>男生</td>\n",
              "      <td>0</td>\n",
              "    </tr>\n",
              "    <tr>\n",
              "      <th>...</th>\n",
              "      <td>...</td>\n",
              "      <td>...</td>\n",
              "      <td>...</td>\n",
              "      <td>...</td>\n",
              "      <td>...</td>\n",
              "    </tr>\n",
              "    <tr>\n",
              "      <th>395</th>\n",
              "      <td>72</td>\n",
              "      <td>63</td>\n",
              "      <td>97.1</td>\n",
              "      <td>女生</td>\n",
              "      <td>0</td>\n",
              "    </tr>\n",
              "    <tr>\n",
              "      <th>396</th>\n",
              "      <td>22</td>\n",
              "      <td>117</td>\n",
              "      <td>156.7</td>\n",
              "      <td>女生</td>\n",
              "      <td>1</td>\n",
              "    </tr>\n",
              "    <tr>\n",
              "      <th>397</th>\n",
              "      <td>31</td>\n",
              "      <td>76</td>\n",
              "      <td>119.0</td>\n",
              "      <td>男生</td>\n",
              "      <td>0</td>\n",
              "    </tr>\n",
              "    <tr>\n",
              "      <th>398</th>\n",
              "      <td>36</td>\n",
              "      <td>65</td>\n",
              "      <td>96.3</td>\n",
              "      <td>女生</td>\n",
              "      <td>1</td>\n",
              "    </tr>\n",
              "    <tr>\n",
              "      <th>399</th>\n",
              "      <td>38</td>\n",
              "      <td>75</td>\n",
              "      <td>106.3</td>\n",
              "      <td>男生</td>\n",
              "      <td>0</td>\n",
              "    </tr>\n",
              "  </tbody>\n",
              "</table>\n",
              "<p>400 rows × 5 columns</p>\n",
              "</div>\n",
              "      <button class=\"colab-df-convert\" onclick=\"convertToInteractive('df-da1770f2-02e3-45f1-9a6d-c05a3754ebad')\"\n",
              "              title=\"Convert this dataframe to an interactive table.\"\n",
              "              style=\"display:none;\">\n",
              "\n",
              "  <svg xmlns=\"http://www.w3.org/2000/svg\" height=\"24px\"viewBox=\"0 0 24 24\"\n",
              "       width=\"24px\">\n",
              "    <path d=\"M0 0h24v24H0V0z\" fill=\"none\"/>\n",
              "    <path d=\"M18.56 5.44l.94 2.06.94-2.06 2.06-.94-2.06-.94-.94-2.06-.94 2.06-2.06.94zm-11 1L8.5 8.5l.94-2.06 2.06-.94-2.06-.94L8.5 2.5l-.94 2.06-2.06.94zm10 10l.94 2.06.94-2.06 2.06-.94-2.06-.94-.94-2.06-.94 2.06-2.06.94z\"/><path d=\"M17.41 7.96l-1.37-1.37c-.4-.4-.92-.59-1.43-.59-.52 0-1.04.2-1.43.59L10.3 9.45l-7.72 7.72c-.78.78-.78 2.05 0 2.83L4 21.41c.39.39.9.59 1.41.59.51 0 1.02-.2 1.41-.59l7.78-7.78 2.81-2.81c.8-.78.8-2.07 0-2.86zM5.41 20L4 18.59l7.72-7.72 1.47 1.35L5.41 20z\"/>\n",
              "  </svg>\n",
              "      </button>\n",
              "\n",
              "\n",
              "\n",
              "    <div id=\"df-5df48c82-b299-4d26-b0be-921bbb5184a8\">\n",
              "      <button class=\"colab-df-quickchart\" onclick=\"quickchart('df-5df48c82-b299-4d26-b0be-921bbb5184a8')\"\n",
              "              title=\"Suggest charts.\"\n",
              "              style=\"display:none;\">\n",
              "\n",
              "<svg xmlns=\"http://www.w3.org/2000/svg\" height=\"24px\"viewBox=\"0 0 24 24\"\n",
              "     width=\"24px\">\n",
              "    <g>\n",
              "        <path d=\"M19 3H5c-1.1 0-2 .9-2 2v14c0 1.1.9 2 2 2h14c1.1 0 2-.9 2-2V5c0-1.1-.9-2-2-2zM9 17H7v-7h2v7zm4 0h-2V7h2v10zm4 0h-2v-4h2v4z\"/>\n",
              "    </g>\n",
              "</svg>\n",
              "      </button>\n",
              "    </div>\n",
              "\n",
              "<style>\n",
              "  .colab-df-quickchart {\n",
              "    background-color: #E8F0FE;\n",
              "    border: none;\n",
              "    border-radius: 50%;\n",
              "    cursor: pointer;\n",
              "    display: none;\n",
              "    fill: #1967D2;\n",
              "    height: 32px;\n",
              "    padding: 0 0 0 0;\n",
              "    width: 32px;\n",
              "  }\n",
              "\n",
              "  .colab-df-quickchart:hover {\n",
              "    background-color: #E2EBFA;\n",
              "    box-shadow: 0px 1px 2px rgba(60, 64, 67, 0.3), 0px 1px 3px 1px rgba(60, 64, 67, 0.15);\n",
              "    fill: #174EA6;\n",
              "  }\n",
              "\n",
              "  [theme=dark] .colab-df-quickchart {\n",
              "    background-color: #3B4455;\n",
              "    fill: #D2E3FC;\n",
              "  }\n",
              "\n",
              "  [theme=dark] .colab-df-quickchart:hover {\n",
              "    background-color: #434B5C;\n",
              "    box-shadow: 0px 1px 3px 1px rgba(0, 0, 0, 0.15);\n",
              "    filter: drop-shadow(0px 1px 2px rgba(0, 0, 0, 0.3));\n",
              "    fill: #FFFFFF;\n",
              "  }\n",
              "</style>\n",
              "\n",
              "    <script>\n",
              "      async function quickchart(key) {\n",
              "        const containerElement = document.querySelector('#' + key);\n",
              "        const charts = await google.colab.kernel.invokeFunction(\n",
              "            'suggestCharts', [key], {});\n",
              "      }\n",
              "    </script>\n",
              "\n",
              "      <script>\n",
              "\n",
              "function displayQuickchartButton(domScope) {\n",
              "  let quickchartButtonEl =\n",
              "    domScope.querySelector('#df-5df48c82-b299-4d26-b0be-921bbb5184a8 button.colab-df-quickchart');\n",
              "  quickchartButtonEl.style.display =\n",
              "    google.colab.kernel.accessAllowed ? 'block' : 'none';\n",
              "}\n",
              "\n",
              "        displayQuickchartButton(document);\n",
              "      </script>\n",
              "      <style>\n",
              "    .colab-df-container {\n",
              "      display:flex;\n",
              "      flex-wrap:wrap;\n",
              "      gap: 12px;\n",
              "    }\n",
              "\n",
              "    .colab-df-convert {\n",
              "      background-color: #E8F0FE;\n",
              "      border: none;\n",
              "      border-radius: 50%;\n",
              "      cursor: pointer;\n",
              "      display: none;\n",
              "      fill: #1967D2;\n",
              "      height: 32px;\n",
              "      padding: 0 0 0 0;\n",
              "      width: 32px;\n",
              "    }\n",
              "\n",
              "    .colab-df-convert:hover {\n",
              "      background-color: #E2EBFA;\n",
              "      box-shadow: 0px 1px 2px rgba(60, 64, 67, 0.3), 0px 1px 3px 1px rgba(60, 64, 67, 0.15);\n",
              "      fill: #174EA6;\n",
              "    }\n",
              "\n",
              "    [theme=dark] .colab-df-convert {\n",
              "      background-color: #3B4455;\n",
              "      fill: #D2E3FC;\n",
              "    }\n",
              "\n",
              "    [theme=dark] .colab-df-convert:hover {\n",
              "      background-color: #434B5C;\n",
              "      box-shadow: 0px 1px 3px 1px rgba(0, 0, 0, 0.15);\n",
              "      filter: drop-shadow(0px 1px 2px rgba(0, 0, 0, 0.3));\n",
              "      fill: #FFFFFF;\n",
              "    }\n",
              "  </style>\n",
              "\n",
              "      <script>\n",
              "        const buttonEl =\n",
              "          document.querySelector('#df-da1770f2-02e3-45f1-9a6d-c05a3754ebad button.colab-df-convert');\n",
              "        buttonEl.style.display =\n",
              "          google.colab.kernel.accessAllowed ? 'block' : 'none';\n",
              "\n",
              "        async function convertToInteractive(key) {\n",
              "          const element = document.querySelector('#df-da1770f2-02e3-45f1-9a6d-c05a3754ebad');\n",
              "          const dataTable =\n",
              "            await google.colab.kernel.invokeFunction('convertToInteractive',\n",
              "                                                     [key], {});\n",
              "          if (!dataTable) return;\n",
              "\n",
              "          const docLinkHtml = 'Like what you see? Visit the ' +\n",
              "            '<a target=\"_blank\" href=https://colab.research.google.com/notebooks/data_table.ipynb>data table notebook</a>'\n",
              "            + ' to learn more about interactive tables.';\n",
              "          element.innerHTML = '';\n",
              "          dataTable['output_type'] = 'display_data';\n",
              "          await google.colab.output.renderOutput(dataTable, element);\n",
              "          const docLink = document.createElement('div');\n",
              "          docLink.innerHTML = docLinkHtml;\n",
              "          element.appendChild(docLink);\n",
              "        }\n",
              "      </script>\n",
              "    </div>\n",
              "  </div>\n"
            ]
          },
          "metadata": {},
          "execution_count": 1
        }
      ],
      "source": [
        "#先設定gpu\n",
        "\n",
        "import pandas as pd\n",
        "url=\"https://raw.githubusercontent.com/GrandmaCan/ML/main/Classification/Diabetes_Data.csv\"\n",
        "data=pd.read_csv(url)\n",
        "data"
      ]
    },
    {
      "cell_type": "code",
      "execution_count": 2,
      "metadata": {
        "colab": {
          "base_uri": "https://localhost:8080/",
          "height": 419
        },
        "id": "2o7tnWwf7ykw",
        "outputId": "a251ac15-c70a-44d8-9f1a-9a9773c1581f"
      },
      "outputs": [
        {
          "output_type": "execute_result",
          "data": {
            "text/plain": [
              "     Age  Weight  BloodSugar  Gender  Diabetes\n",
              "0     25     119       130.8       1         1\n",
              "1     66     102       128.1       0         1\n",
              "2     59      65       103.9       1         0\n",
              "3     46     117        94.8       0         0\n",
              "4     45      79        57.8       1         0\n",
              "..   ...     ...         ...     ...       ...\n",
              "395   72      63        97.1       0         0\n",
              "396   22     117       156.7       0         1\n",
              "397   31      76       119.0       1         0\n",
              "398   36      65        96.3       0         1\n",
              "399   38      75       106.3       1         0\n",
              "\n",
              "[400 rows x 5 columns]"
            ],
            "text/html": [
              "\n",
              "\n",
              "  <div id=\"df-fe335245-b8ef-4b9a-83f5-a86451103655\">\n",
              "    <div class=\"colab-df-container\">\n",
              "      <div>\n",
              "<style scoped>\n",
              "    .dataframe tbody tr th:only-of-type {\n",
              "        vertical-align: middle;\n",
              "    }\n",
              "\n",
              "    .dataframe tbody tr th {\n",
              "        vertical-align: top;\n",
              "    }\n",
              "\n",
              "    .dataframe thead th {\n",
              "        text-align: right;\n",
              "    }\n",
              "</style>\n",
              "<table border=\"1\" class=\"dataframe\">\n",
              "  <thead>\n",
              "    <tr style=\"text-align: right;\">\n",
              "      <th></th>\n",
              "      <th>Age</th>\n",
              "      <th>Weight</th>\n",
              "      <th>BloodSugar</th>\n",
              "      <th>Gender</th>\n",
              "      <th>Diabetes</th>\n",
              "    </tr>\n",
              "  </thead>\n",
              "  <tbody>\n",
              "    <tr>\n",
              "      <th>0</th>\n",
              "      <td>25</td>\n",
              "      <td>119</td>\n",
              "      <td>130.8</td>\n",
              "      <td>1</td>\n",
              "      <td>1</td>\n",
              "    </tr>\n",
              "    <tr>\n",
              "      <th>1</th>\n",
              "      <td>66</td>\n",
              "      <td>102</td>\n",
              "      <td>128.1</td>\n",
              "      <td>0</td>\n",
              "      <td>1</td>\n",
              "    </tr>\n",
              "    <tr>\n",
              "      <th>2</th>\n",
              "      <td>59</td>\n",
              "      <td>65</td>\n",
              "      <td>103.9</td>\n",
              "      <td>1</td>\n",
              "      <td>0</td>\n",
              "    </tr>\n",
              "    <tr>\n",
              "      <th>3</th>\n",
              "      <td>46</td>\n",
              "      <td>117</td>\n",
              "      <td>94.8</td>\n",
              "      <td>0</td>\n",
              "      <td>0</td>\n",
              "    </tr>\n",
              "    <tr>\n",
              "      <th>4</th>\n",
              "      <td>45</td>\n",
              "      <td>79</td>\n",
              "      <td>57.8</td>\n",
              "      <td>1</td>\n",
              "      <td>0</td>\n",
              "    </tr>\n",
              "    <tr>\n",
              "      <th>...</th>\n",
              "      <td>...</td>\n",
              "      <td>...</td>\n",
              "      <td>...</td>\n",
              "      <td>...</td>\n",
              "      <td>...</td>\n",
              "    </tr>\n",
              "    <tr>\n",
              "      <th>395</th>\n",
              "      <td>72</td>\n",
              "      <td>63</td>\n",
              "      <td>97.1</td>\n",
              "      <td>0</td>\n",
              "      <td>0</td>\n",
              "    </tr>\n",
              "    <tr>\n",
              "      <th>396</th>\n",
              "      <td>22</td>\n",
              "      <td>117</td>\n",
              "      <td>156.7</td>\n",
              "      <td>0</td>\n",
              "      <td>1</td>\n",
              "    </tr>\n",
              "    <tr>\n",
              "      <th>397</th>\n",
              "      <td>31</td>\n",
              "      <td>76</td>\n",
              "      <td>119.0</td>\n",
              "      <td>1</td>\n",
              "      <td>0</td>\n",
              "    </tr>\n",
              "    <tr>\n",
              "      <th>398</th>\n",
              "      <td>36</td>\n",
              "      <td>65</td>\n",
              "      <td>96.3</td>\n",
              "      <td>0</td>\n",
              "      <td>1</td>\n",
              "    </tr>\n",
              "    <tr>\n",
              "      <th>399</th>\n",
              "      <td>38</td>\n",
              "      <td>75</td>\n",
              "      <td>106.3</td>\n",
              "      <td>1</td>\n",
              "      <td>0</td>\n",
              "    </tr>\n",
              "  </tbody>\n",
              "</table>\n",
              "<p>400 rows × 5 columns</p>\n",
              "</div>\n",
              "      <button class=\"colab-df-convert\" onclick=\"convertToInteractive('df-fe335245-b8ef-4b9a-83f5-a86451103655')\"\n",
              "              title=\"Convert this dataframe to an interactive table.\"\n",
              "              style=\"display:none;\">\n",
              "\n",
              "  <svg xmlns=\"http://www.w3.org/2000/svg\" height=\"24px\"viewBox=\"0 0 24 24\"\n",
              "       width=\"24px\">\n",
              "    <path d=\"M0 0h24v24H0V0z\" fill=\"none\"/>\n",
              "    <path d=\"M18.56 5.44l.94 2.06.94-2.06 2.06-.94-2.06-.94-.94-2.06-.94 2.06-2.06.94zm-11 1L8.5 8.5l.94-2.06 2.06-.94-2.06-.94L8.5 2.5l-.94 2.06-2.06.94zm10 10l.94 2.06.94-2.06 2.06-.94-2.06-.94-.94-2.06-.94 2.06-2.06.94z\"/><path d=\"M17.41 7.96l-1.37-1.37c-.4-.4-.92-.59-1.43-.59-.52 0-1.04.2-1.43.59L10.3 9.45l-7.72 7.72c-.78.78-.78 2.05 0 2.83L4 21.41c.39.39.9.59 1.41.59.51 0 1.02-.2 1.41-.59l7.78-7.78 2.81-2.81c.8-.78.8-2.07 0-2.86zM5.41 20L4 18.59l7.72-7.72 1.47 1.35L5.41 20z\"/>\n",
              "  </svg>\n",
              "      </button>\n",
              "\n",
              "\n",
              "\n",
              "    <div id=\"df-5acf5a4f-15f8-4304-a38b-68c172797ca0\">\n",
              "      <button class=\"colab-df-quickchart\" onclick=\"quickchart('df-5acf5a4f-15f8-4304-a38b-68c172797ca0')\"\n",
              "              title=\"Suggest charts.\"\n",
              "              style=\"display:none;\">\n",
              "\n",
              "<svg xmlns=\"http://www.w3.org/2000/svg\" height=\"24px\"viewBox=\"0 0 24 24\"\n",
              "     width=\"24px\">\n",
              "    <g>\n",
              "        <path d=\"M19 3H5c-1.1 0-2 .9-2 2v14c0 1.1.9 2 2 2h14c1.1 0 2-.9 2-2V5c0-1.1-.9-2-2-2zM9 17H7v-7h2v7zm4 0h-2V7h2v10zm4 0h-2v-4h2v4z\"/>\n",
              "    </g>\n",
              "</svg>\n",
              "      </button>\n",
              "    </div>\n",
              "\n",
              "<style>\n",
              "  .colab-df-quickchart {\n",
              "    background-color: #E8F0FE;\n",
              "    border: none;\n",
              "    border-radius: 50%;\n",
              "    cursor: pointer;\n",
              "    display: none;\n",
              "    fill: #1967D2;\n",
              "    height: 32px;\n",
              "    padding: 0 0 0 0;\n",
              "    width: 32px;\n",
              "  }\n",
              "\n",
              "  .colab-df-quickchart:hover {\n",
              "    background-color: #E2EBFA;\n",
              "    box-shadow: 0px 1px 2px rgba(60, 64, 67, 0.3), 0px 1px 3px 1px rgba(60, 64, 67, 0.15);\n",
              "    fill: #174EA6;\n",
              "  }\n",
              "\n",
              "  [theme=dark] .colab-df-quickchart {\n",
              "    background-color: #3B4455;\n",
              "    fill: #D2E3FC;\n",
              "  }\n",
              "\n",
              "  [theme=dark] .colab-df-quickchart:hover {\n",
              "    background-color: #434B5C;\n",
              "    box-shadow: 0px 1px 3px 1px rgba(0, 0, 0, 0.15);\n",
              "    filter: drop-shadow(0px 1px 2px rgba(0, 0, 0, 0.3));\n",
              "    fill: #FFFFFF;\n",
              "  }\n",
              "</style>\n",
              "\n",
              "    <script>\n",
              "      async function quickchart(key) {\n",
              "        const containerElement = document.querySelector('#' + key);\n",
              "        const charts = await google.colab.kernel.invokeFunction(\n",
              "            'suggestCharts', [key], {});\n",
              "      }\n",
              "    </script>\n",
              "\n",
              "      <script>\n",
              "\n",
              "function displayQuickchartButton(domScope) {\n",
              "  let quickchartButtonEl =\n",
              "    domScope.querySelector('#df-5acf5a4f-15f8-4304-a38b-68c172797ca0 button.colab-df-quickchart');\n",
              "  quickchartButtonEl.style.display =\n",
              "    google.colab.kernel.accessAllowed ? 'block' : 'none';\n",
              "}\n",
              "\n",
              "        displayQuickchartButton(document);\n",
              "      </script>\n",
              "      <style>\n",
              "    .colab-df-container {\n",
              "      display:flex;\n",
              "      flex-wrap:wrap;\n",
              "      gap: 12px;\n",
              "    }\n",
              "\n",
              "    .colab-df-convert {\n",
              "      background-color: #E8F0FE;\n",
              "      border: none;\n",
              "      border-radius: 50%;\n",
              "      cursor: pointer;\n",
              "      display: none;\n",
              "      fill: #1967D2;\n",
              "      height: 32px;\n",
              "      padding: 0 0 0 0;\n",
              "      width: 32px;\n",
              "    }\n",
              "\n",
              "    .colab-df-convert:hover {\n",
              "      background-color: #E2EBFA;\n",
              "      box-shadow: 0px 1px 2px rgba(60, 64, 67, 0.3), 0px 1px 3px 1px rgba(60, 64, 67, 0.15);\n",
              "      fill: #174EA6;\n",
              "    }\n",
              "\n",
              "    [theme=dark] .colab-df-convert {\n",
              "      background-color: #3B4455;\n",
              "      fill: #D2E3FC;\n",
              "    }\n",
              "\n",
              "    [theme=dark] .colab-df-convert:hover {\n",
              "      background-color: #434B5C;\n",
              "      box-shadow: 0px 1px 3px 1px rgba(0, 0, 0, 0.15);\n",
              "      filter: drop-shadow(0px 1px 2px rgba(0, 0, 0, 0.3));\n",
              "      fill: #FFFFFF;\n",
              "    }\n",
              "  </style>\n",
              "\n",
              "      <script>\n",
              "        const buttonEl =\n",
              "          document.querySelector('#df-fe335245-b8ef-4b9a-83f5-a86451103655 button.colab-df-convert');\n",
              "        buttonEl.style.display =\n",
              "          google.colab.kernel.accessAllowed ? 'block' : 'none';\n",
              "\n",
              "        async function convertToInteractive(key) {\n",
              "          const element = document.querySelector('#df-fe335245-b8ef-4b9a-83f5-a86451103655');\n",
              "          const dataTable =\n",
              "            await google.colab.kernel.invokeFunction('convertToInteractive',\n",
              "                                                     [key], {});\n",
              "          if (!dataTable) return;\n",
              "\n",
              "          const docLinkHtml = 'Like what you see? Visit the ' +\n",
              "            '<a target=\"_blank\" href=https://colab.research.google.com/notebooks/data_table.ipynb>data table notebook</a>'\n",
              "            + ' to learn more about interactive tables.';\n",
              "          element.innerHTML = '';\n",
              "          dataTable['output_type'] = 'display_data';\n",
              "          await google.colab.output.renderOutput(dataTable, element);\n",
              "          const docLink = document.createElement('div');\n",
              "          docLink.innerHTML = docLinkHtml;\n",
              "          element.appendChild(docLink);\n",
              "        }\n",
              "      </script>\n",
              "    </div>\n",
              "  </div>\n"
            ]
          },
          "metadata": {},
          "execution_count": 2
        }
      ],
      "source": [
        "data[\"Gender\"]=data[\"Gender\"].map({\"男生\":1,\"女生\":0})\n",
        "data"
      ]
    },
    {
      "cell_type": "code",
      "execution_count": 3,
      "metadata": {
        "colab": {
          "base_uri": "https://localhost:8080/"
        },
        "id": "fpe9e8sJ8MjI",
        "outputId": "2a0eb9c5-2ec6-4b1e-c3db-99de1a01a657"
      },
      "outputs": [
        {
          "output_type": "execute_result",
          "data": {
            "text/plain": [
              "320"
            ]
          },
          "metadata": {},
          "execution_count": 3
        }
      ],
      "source": [
        "#分成訓練及測試集\n",
        "\n",
        "from sklearn.model_selection import train_test_split\n",
        "#注意：多特徵要用二維矩陣格式\n",
        "x=data[[\"Age\",\"Weight\",\"BloodSugar\",\"Gender\"]]\n",
        "y=data[\"Diabetes\"]\n",
        "#注意：x,y切分順序(不能先y,再x)\n",
        "x_train,x_test,y_train,y_test=train_test_split(x,y,test_size=0.2)\n",
        "len(y_train)"
      ]
    },
    {
      "cell_type": "code",
      "execution_count": 4,
      "metadata": {
        "id": "ScYCe-WUszmQ"
      },
      "outputs": [],
      "source": [
        "#1\n",
        "# x_train=x_train.to_numpy()\n",
        "# x_test=x_test.to_numpy()\n",
        "\n",
        "#2\n",
        "# import torch\n",
        "# y_train=torch.tensor(y_train.values,dtype=torch.float64)\n",
        "# y_test=torch.tensor(y_test.values,dtype=torch.float64)\n",
        "# x_train=torch.tensor(x_train.values,dtype=torch.float64)\n",
        "# x_test=torch.tensor(x_test.values,dtype=torch.float64)\n",
        "\n",
        "#不用先設定1,2嗎？why這兩個其中一個都沒寫，特徵縮放還是可以執行"
      ]
    },
    {
      "cell_type": "code",
      "execution_count": 5,
      "metadata": {
        "colab": {
          "base_uri": "https://localhost:8080/"
        },
        "id": "6RSOL-awqFT1",
        "outputId": "190415f2-fa68-4196-c3e0-55c477297439"
      },
      "outputs": [
        {
          "output_type": "execute_result",
          "data": {
            "text/plain": [
              "array([[ 0.81523777, -0.11297982,  0.01384359,  0.93933644],\n",
              "       [-1.70936951,  0.14774285, -0.26108822,  0.93933644],\n",
              "       [-1.52904042,  1.36444865,  0.7322138 , -1.06458129],\n",
              "       ...,\n",
              "       [ 0.93545716, -0.72133273,  1.37519949,  0.93933644],\n",
              "       [ 1.47644443,  0.92991087,  1.04262069, -1.06458129],\n",
              "       [ 0.93545716, -0.50406383,  1.15791467,  0.93933644]])"
            ]
          },
          "metadata": {},
          "execution_count": 5
        }
      ],
      "source": [
        "#特徵縮放\n",
        "\n",
        "#參考colab2-2。x特徵彼此差距大，讓他們縮放到相同大小，讓梯度變化一致，更穩定跟更快達到最低點\n",
        "from sklearn.preprocessing import StandardScaler\n",
        "scaler=StandardScaler()\n",
        "scaler.fit(x_train)\n",
        "x_train=scaler.transform(x_train)\n",
        "x_test=scaler.transform(x_test)\n",
        "x_train"
      ]
    },
    {
      "cell_type": "code",
      "execution_count": 6,
      "metadata": {
        "id": "ihomq5h5lJ7q"
      },
      "outputs": [],
      "source": [
        "#轉換成tensor\n",
        "# import torch\n",
        "# y_train=torch.tensor(y_train.values,dtype=torch.float64)\n",
        "# y_test=torch.tensor(y_test.values,dtype=torch.float64)\n",
        "# x_train=torch.tensor(x_train.values,dtype=torch.float64)\n",
        "# x_test=torch.tensor(x_test.values,dtype=torㄐch.float64)\n"
      ]
    },
    {
      "cell_type": "code",
      "execution_count": 7,
      "metadata": {
        "id": "Gux7cejz6Q3i"
      },
      "outputs": [],
      "source": [
        "#定義邏輯回歸\n",
        "\n",
        "import torch\n",
        "from torch import nn\n",
        "class LogisticRegressionModel(nn.Module):\n",
        "  def __init__(self):\n",
        "    super().__init__()\n",
        "    #邏輯回歸：多元線性回歸+sigmoid\n",
        "    #底下的model(x_train)會發生x_train跟model資料型態不符合的error，把model改成跟x_train一樣的型態\n",
        "    self.Linear_layer=nn.Linear(in_features=4,out_features=1, dtype=torch.float64)\n",
        "    #找sigmoid fn。pytorch官網:左邊欄位torch.nn=>Non-linear Activations (weighted sum, nonlinearity)非線性激活函數=>nn.Sigmoid\n",
        "    self.sigmoid=nn.Sigmoid()\n",
        "\n",
        "  #定義正向傳播計算過程。參考colab4-2A\n",
        "  def forward(self,x):\n",
        "    return self.sigmoid(self.Linear_layer(x))\n"
      ]
    },
    {
      "cell_type": "code",
      "execution_count": 8,
      "metadata": {
        "colab": {
          "base_uri": "https://localhost:8080/"
        },
        "id": "pbXFL2bAzpTc",
        "outputId": "35bd2633-9c84-4e63-8770-a1e2ba342a50"
      },
      "outputs": [
        {
          "output_type": "execute_result",
          "data": {
            "text/plain": [
              "(LogisticRegressionModel(\n",
              "   (Linear_layer): Linear(in_features=4, out_features=1, bias=True)\n",
              "   (sigmoid): Sigmoid()\n",
              " ),\n",
              " OrderedDict([('Linear_layer.weight',\n",
              "               tensor([[ 0.3433,  0.2181,  0.0612, -0.0877]], dtype=torch.float64)),\n",
              "              ('Linear_layer.bias', tensor([-0.3427], dtype=torch.float64))]))"
            ]
          },
          "metadata": {},
          "execution_count": 8
        }
      ],
      "source": [
        "#創建模型\n",
        "\n",
        "model=LogisticRegressionModel()\n",
        "#state_dict()有4個w,1個b\n",
        "model, model.state_dict()"
      ]
    },
    {
      "cell_type": "code",
      "execution_count": 9,
      "metadata": {
        "id": "3mIhgRbFMJ2y"
      },
      "outputs": [],
      "source": [
        "x_train=torch.tensor(x_train,dtype=torch.float64)\n",
        "x_test=torch.tensor(x_test,dtype=torch.float64)\n",
        "y_train=torch.tensor(y_train.values,dtype=torch.float64)\n",
        "y_test=torch.tensor(y_test.values,dtype=torch.float64)\n",
        "\n",
        "\n",
        "#四個都沒加上.values,會出現以下error\n",
        "#ValueError: could not determine the shape of object type 'Series'\n",
        "#只有x_train,x_test是numpy，在特徵縮放的transform轉的，而另外兩個都還是pandas series物件。所以要把y_train,y_test轉成numpy再轉tensor\n",
        "#上面四個轉tensor後，才有辦法在cuda上計算"
      ]
    },
    {
      "cell_type": "code",
      "execution_count": 10,
      "metadata": {
        "id": "OsXHSeWfH9H_"
      },
      "outputs": [],
      "source": [
        "#將model,訓練測試集資料放到gpu上\n",
        "\n",
        "model=model.to(\"cuda\")\n",
        "x_train=x_train.to(\"cuda\")\n",
        "x_test=x_test.to(\"cuda\")\n",
        "y_train=y_train.to(\"cuda\")\n",
        "y_test=y_test.to(\"cuda\")\n",
        "\n",
        "#訓練測試集資料放cuda出現error。因為x_train,x_test是numpy,不能直接使用gpu,要轉換成tensor才有辦法使用\n",
        "#AttributeError: 'numpy.ndarray' object has no attribute 'to'"
      ]
    },
    {
      "cell_type": "code",
      "source": [
        "#放在gpu上後，接著就可以把資料丟到模型\n",
        "model(x_train)\n",
        "\n",
        "#RuntimeError: mat1 and mat2 must have the same dtype\n",
        "#檢查資料型態\n",
        "#程式碼：x_train.dtype, model.Linear_layer.weight.dtype\n",
        "#model.state_dict()的result有資料型態Linear_layer.weight\n",
        "#result: x_train是float64, w是float32\n",
        "#定義類別那邊做資料型態修改\n",
        "\n",
        "#輸出的值都在0-1之間，因為有經過sigmoid"
      ],
      "metadata": {
        "id": "ZzW9EEL4IWbR",
        "colab": {
          "base_uri": "https://localhost:8080/"
        },
        "outputId": "978ffadf-5f88-4e38-f825-3f8eedc74f03"
      },
      "execution_count": 11,
      "outputs": [
        {
          "output_type": "execute_result",
          "data": {
            "text/plain": [
              "tensor([[0.4579],\n",
              "        [0.2698],\n",
              "        [0.3937],\n",
              "        [0.3565],\n",
              "        [0.5468],\n",
              "        [0.5574],\n",
              "        [0.4784],\n",
              "        [0.5530],\n",
              "        [0.2819],\n",
              "        [0.4907],\n",
              "        [0.2518],\n",
              "        [0.4689],\n",
              "        [0.3264],\n",
              "        [0.3337],\n",
              "        [0.5002],\n",
              "        [0.3831],\n",
              "        [0.2495],\n",
              "        [0.5694],\n",
              "        [0.3376],\n",
              "        [0.3936],\n",
              "        [0.2927],\n",
              "        [0.2767],\n",
              "        [0.5665],\n",
              "        [0.5051],\n",
              "        [0.3715],\n",
              "        [0.5782],\n",
              "        [0.5533],\n",
              "        [0.5278],\n",
              "        [0.4979],\n",
              "        [0.4608],\n",
              "        [0.2024],\n",
              "        [0.3725],\n",
              "        [0.5789],\n",
              "        [0.4371],\n",
              "        [0.4355],\n",
              "        [0.5142],\n",
              "        [0.5707],\n",
              "        [0.3404],\n",
              "        [0.3491],\n",
              "        [0.3181],\n",
              "        [0.4519],\n",
              "        [0.3322],\n",
              "        [0.3875],\n",
              "        [0.5302],\n",
              "        [0.3336],\n",
              "        [0.3331],\n",
              "        [0.2637],\n",
              "        [0.5065],\n",
              "        [0.4296],\n",
              "        [0.4963],\n",
              "        [0.3498],\n",
              "        [0.3099],\n",
              "        [0.3636],\n",
              "        [0.4551],\n",
              "        [0.5522],\n",
              "        [0.3221],\n",
              "        [0.3849],\n",
              "        [0.3879],\n",
              "        [0.3103],\n",
              "        [0.4589],\n",
              "        [0.4363],\n",
              "        [0.4048],\n",
              "        [0.3819],\n",
              "        [0.4206],\n",
              "        [0.5423],\n",
              "        [0.4800],\n",
              "        [0.2837],\n",
              "        [0.4317],\n",
              "        [0.4474],\n",
              "        [0.2960],\n",
              "        [0.3731],\n",
              "        [0.4287],\n",
              "        [0.6391],\n",
              "        [0.3312],\n",
              "        [0.2533],\n",
              "        [0.4174],\n",
              "        [0.4704],\n",
              "        [0.3842],\n",
              "        [0.2339],\n",
              "        [0.5910],\n",
              "        [0.4347],\n",
              "        [0.4149],\n",
              "        [0.3597],\n",
              "        [0.3384],\n",
              "        [0.2035],\n",
              "        [0.4295],\n",
              "        [0.5277],\n",
              "        [0.5747],\n",
              "        [0.6744],\n",
              "        [0.2011],\n",
              "        [0.5866],\n",
              "        [0.3154],\n",
              "        [0.5673],\n",
              "        [0.3654],\n",
              "        [0.2912],\n",
              "        [0.3883],\n",
              "        [0.5217],\n",
              "        [0.3198],\n",
              "        [0.2731],\n",
              "        [0.3349],\n",
              "        [0.4186],\n",
              "        [0.3877],\n",
              "        [0.3449],\n",
              "        [0.2938],\n",
              "        [0.5144],\n",
              "        [0.2484],\n",
              "        [0.5616],\n",
              "        [0.3604],\n",
              "        [0.5537],\n",
              "        [0.3592],\n",
              "        [0.4689],\n",
              "        [0.5966],\n",
              "        [0.4384],\n",
              "        [0.4748],\n",
              "        [0.5174],\n",
              "        [0.3899],\n",
              "        [0.4031],\n",
              "        [0.6086],\n",
              "        [0.4552],\n",
              "        [0.4350],\n",
              "        [0.3801],\n",
              "        [0.3716],\n",
              "        [0.2632],\n",
              "        [0.5849],\n",
              "        [0.4993],\n",
              "        [0.4911],\n",
              "        [0.3560],\n",
              "        [0.3089],\n",
              "        [0.5948],\n",
              "        [0.6129],\n",
              "        [0.4741],\n",
              "        [0.4752],\n",
              "        [0.3810],\n",
              "        [0.2883],\n",
              "        [0.3462],\n",
              "        [0.3244],\n",
              "        [0.4640],\n",
              "        [0.5605],\n",
              "        [0.3986],\n",
              "        [0.3569],\n",
              "        [0.5662],\n",
              "        [0.5299],\n",
              "        [0.5358],\n",
              "        [0.4247],\n",
              "        [0.4317],\n",
              "        [0.3460],\n",
              "        [0.4323],\n",
              "        [0.2230],\n",
              "        [0.5655],\n",
              "        [0.2933],\n",
              "        [0.4684],\n",
              "        [0.3765],\n",
              "        [0.4976],\n",
              "        [0.2365],\n",
              "        [0.3140],\n",
              "        [0.5338],\n",
              "        [0.4108],\n",
              "        [0.4569],\n",
              "        [0.3768],\n",
              "        [0.3961],\n",
              "        [0.3320],\n",
              "        [0.3944],\n",
              "        [0.4448],\n",
              "        [0.3864],\n",
              "        [0.2649],\n",
              "        [0.4415],\n",
              "        [0.3766],\n",
              "        [0.4067],\n",
              "        [0.3787],\n",
              "        [0.5226],\n",
              "        [0.2026],\n",
              "        [0.3892],\n",
              "        [0.5113],\n",
              "        [0.5768],\n",
              "        [0.3336],\n",
              "        [0.5748],\n",
              "        [0.4449],\n",
              "        [0.5291],\n",
              "        [0.3711],\n",
              "        [0.3305],\n",
              "        [0.3260],\n",
              "        [0.5805],\n",
              "        [0.4228],\n",
              "        [0.3306],\n",
              "        [0.5265],\n",
              "        [0.3520],\n",
              "        [0.3705],\n",
              "        [0.3930],\n",
              "        [0.3277],\n",
              "        [0.4653],\n",
              "        [0.4721],\n",
              "        [0.3806],\n",
              "        [0.3261],\n",
              "        [0.6298],\n",
              "        [0.5932],\n",
              "        [0.2466],\n",
              "        [0.4429],\n",
              "        [0.5386],\n",
              "        [0.4592],\n",
              "        [0.4373],\n",
              "        [0.4162],\n",
              "        [0.3174],\n",
              "        [0.4254],\n",
              "        [0.4690],\n",
              "        [0.2494],\n",
              "        [0.3696],\n",
              "        [0.6177],\n",
              "        [0.4771],\n",
              "        [0.3572],\n",
              "        [0.4882],\n",
              "        [0.2881],\n",
              "        [0.4027],\n",
              "        [0.4495],\n",
              "        [0.4837],\n",
              "        [0.3942],\n",
              "        [0.5081],\n",
              "        [0.5635],\n",
              "        [0.4099],\n",
              "        [0.4137],\n",
              "        [0.3726],\n",
              "        [0.6021],\n",
              "        [0.5129],\n",
              "        [0.6272],\n",
              "        [0.3272],\n",
              "        [0.3570],\n",
              "        [0.5378],\n",
              "        [0.3413],\n",
              "        [0.5260],\n",
              "        [0.2774],\n",
              "        [0.5085],\n",
              "        [0.6630],\n",
              "        [0.4779],\n",
              "        [0.4893],\n",
              "        [0.3983],\n",
              "        [0.5486],\n",
              "        [0.5230],\n",
              "        [0.3914],\n",
              "        [0.5473],\n",
              "        [0.4013],\n",
              "        [0.3847],\n",
              "        [0.4392],\n",
              "        [0.4525],\n",
              "        [0.2827],\n",
              "        [0.4089],\n",
              "        [0.3240],\n",
              "        [0.3742],\n",
              "        [0.3991],\n",
              "        [0.4022],\n",
              "        [0.3597],\n",
              "        [0.3997],\n",
              "        [0.2777],\n",
              "        [0.3466],\n",
              "        [0.2682],\n",
              "        [0.3641],\n",
              "        [0.4288],\n",
              "        [0.2706],\n",
              "        [0.3076],\n",
              "        [0.4005],\n",
              "        [0.4593],\n",
              "        [0.3187],\n",
              "        [0.3950],\n",
              "        [0.5984],\n",
              "        [0.2783],\n",
              "        [0.4422],\n",
              "        [0.5048],\n",
              "        [0.2981],\n",
              "        [0.4409],\n",
              "        [0.2634],\n",
              "        [0.2768],\n",
              "        [0.3683],\n",
              "        [0.6256],\n",
              "        [0.3303],\n",
              "        [0.3132],\n",
              "        [0.2333],\n",
              "        [0.5504],\n",
              "        [0.5433],\n",
              "        [0.5879],\n",
              "        [0.3926],\n",
              "        [0.4750],\n",
              "        [0.3001],\n",
              "        [0.3732],\n",
              "        [0.4956],\n",
              "        [0.3565],\n",
              "        [0.5484],\n",
              "        [0.5316],\n",
              "        [0.2474],\n",
              "        [0.5051],\n",
              "        [0.3513],\n",
              "        [0.3333],\n",
              "        [0.3610],\n",
              "        [0.3616],\n",
              "        [0.4651],\n",
              "        [0.4973],\n",
              "        [0.4092],\n",
              "        [0.3390],\n",
              "        [0.3568],\n",
              "        [0.4754],\n",
              "        [0.5805],\n",
              "        [0.3717],\n",
              "        [0.4437],\n",
              "        [0.4477],\n",
              "        [0.3756],\n",
              "        [0.4046],\n",
              "        [0.5431],\n",
              "        [0.3657],\n",
              "        [0.4612],\n",
              "        [0.4718],\n",
              "        [0.3887],\n",
              "        [0.3508],\n",
              "        [0.5604],\n",
              "        [0.3169],\n",
              "        [0.4356],\n",
              "        [0.1952],\n",
              "        [0.5476],\n",
              "        [0.2512],\n",
              "        [0.3334],\n",
              "        [0.3185],\n",
              "        [0.4558],\n",
              "        [0.6281],\n",
              "        [0.4643]], device='cuda:0', dtype=torch.float64,\n",
              "       grad_fn=<SigmoidBackward0>)"
            ]
          },
          "metadata": {},
          "execution_count": 11
        }
      ]
    },
    {
      "cell_type": "markdown",
      "source": [
        "二、找出最佳參數 - 先設定cost_fn, optimizer\n",
        "\n",
        "找出最佳參數前，要先定義什麼是好，什麼是不好。因此需要先設定cost function(loss function)\n",
        "\n",
        "邏輯回歸cost function:binary cross entropy\n",
        "\n",
        "cost=-y*log(y_pred)-(1-y)*log(1-y_pred)\n",
        "\n",
        "在pytorch裡不用自己寫，pytorch都寫好了\n",
        "\n",
        "pytorch官網：DOCS=>pytorch=>左邊欄位torch.nn=>loss functions=>nn.BCELoss"
      ],
      "metadata": {
        "id": "4_K8IsaeNvil"
      }
    },
    {
      "cell_type": "code",
      "source": [
        "y_train=y_train.reshape(-1,1)\n",
        "#y_test也會遇到same situation\n",
        "\n",
        "#ps.dtype long, float差別\n",
        "#pytorch官網搜尋dtype,可以看到int64就是long,float64是double\n",
        "#課程的y_pred是float64，y_train是int64,他想要把y_train轉成float64\n",
        "#y_train=y_train.type(torch.float64) or y_train=y_train.type(torch.double)"
      ],
      "metadata": {
        "id": "uBmrTjOmTKlQ"
      },
      "execution_count": 12,
      "outputs": []
    },
    {
      "cell_type": "code",
      "source": [
        "cost_fn=nn.BCELoss()\n",
        "y_pred=model(x_train)\n",
        "cost=cost_fn(y_pred,y_train)\n",
        "\n",
        "#形狀不一樣。一個一維，一個二維\n",
        "#ValueError: Using a target size (torch.Size([320])) that is different to the input size (torch.Size([320, 1])) is deprecated. Please ensure they have the same size.\n",
        "#檢查程式碼：y_pred.shape,y_train.shape\n",
        "#result: (torch.Size([320, 1]), torch.Size([320]))\n",
        "#上面用reshape把y_train改成二維\n",
        "\n",
        "#計算出來的cost是0.6935\n",
        "\n",
        "print(model.state_dict())\n",
        "print(cost)"
      ],
      "metadata": {
        "id": "ch0iqWabNtje",
        "colab": {
          "base_uri": "https://localhost:8080/"
        },
        "outputId": "56457a41-62a6-4d17-ffb6-6fd24b00f10b"
      },
      "execution_count": 13,
      "outputs": [
        {
          "output_type": "stream",
          "name": "stdout",
          "text": [
            "OrderedDict([('Linear_layer.weight', tensor([[ 0.3433,  0.2181,  0.0612, -0.0877]], device='cuda:0',\n",
            "       dtype=torch.float64)), ('Linear_layer.bias', tensor([-0.3427], device='cuda:0', dtype=torch.float64))])\n",
            "tensor(0.6071, device='cuda:0', dtype=torch.float64,\n",
            "       grad_fn=<BinaryCrossEntropyBackward0>)\n"
          ]
        }
      ]
    },
    {
      "cell_type": "code",
      "source": [
        "#設定optimizer\n",
        "#0.01,0.1\n",
        "optimizer=torch.optim.SGD(params=model.parameters(),lr=0.1)\n",
        "optimizer.zero_grad()\n",
        "cost.backward()\n",
        "optimizer.step()\n",
        "\n",
        "y_pred=model(x_train)\n",
        "cost=cost_fn(y_pred,y_train)\n",
        "\n",
        "print(model.state_dict())\n",
        "print(cost)\n",
        "\n",
        "#可以看到計算梯度前，跟計算後的cost，是有下降的"
      ],
      "metadata": {
        "id": "Y2XeXM5AFOpO",
        "colab": {
          "base_uri": "https://localhost:8080/"
        },
        "outputId": "e45c08ac-f7d9-414f-f246-c7eed878aca3"
      },
      "execution_count": 14,
      "outputs": [
        {
          "output_type": "stream",
          "name": "stdout",
          "text": [
            "OrderedDict([('Linear_layer.weight', tensor([[ 0.3386,  0.2266,  0.0898, -0.0837]], device='cuda:0',\n",
            "       dtype=torch.float64)), ('Linear_layer.bias', tensor([-0.3527], device='cuda:0', dtype=torch.float64))])\n",
            "tensor(0.5970, device='cuda:0', dtype=torch.float64,\n",
            "       grad_fn=<BinaryCrossEntropyBackward0>)\n"
          ]
        }
      ]
    },
    {
      "cell_type": "markdown",
      "source": [
        "三、找出最佳參數 - 更新多次\n",
        "\n",
        "確定cost有在下降，可以讓他不斷更新參數"
      ],
      "metadata": {
        "id": "Sb_oKprnYuOw"
      }
    },
    {
      "cell_type": "code",
      "source": [
        "cost_hist=[]\n",
        "train_acc_hist=[]\n",
        "for epoch in range(20000):\n",
        "\n",
        "  model.train()\n",
        "\n",
        "  y_pred=model(x_train)\n",
        "  cost=cost_fn(y_pred,y_train)\n",
        "  cost_hist.append(cost.cpu().detach())\n",
        "  optimizer.zero_grad()\n",
        "  cost.backward()\n",
        "  optimizer.step()\n",
        "\n",
        "\n",
        "  #計算準確率\n",
        "  #二元分類不能用相減的，要用比較\n",
        "  #acc=((y_pred-y_train)/y_train)*100\n",
        "\n",
        "  #y_train本來就是0,1(在一開始的數據，就區分出是否糖尿病),y_pred則是計算後的結果，0.XXX，所以用round取四捨五入，0.5以上就是1,\n",
        "  train_acc=(torch.round(y_pred)==y_train).sum()/len(y_train)*100\n",
        "  train_acc_hist.append(train_acc.cpu())\n",
        "\n",
        "  if epoch%1000==0:\n",
        "    print(f\"epoch:{epoch: 6}, cost:{cost: .4e}, acc:{train_acc}%\")"
      ],
      "metadata": {
        "id": "KH7MiAgPgB-s",
        "colab": {
          "base_uri": "https://localhost:8080/"
        },
        "outputId": "da763ef3-4bea-41ad-da7d-e2a1f08a804f"
      },
      "execution_count": 15,
      "outputs": [
        {
          "output_type": "stream",
          "name": "stdout",
          "text": [
            "epoch:     0, cost: 5.9696e-01, acc:70.9375%\n",
            "epoch:  1000, cost: 2.4934e-01, acc:89.375%\n",
            "epoch:  2000, cost: 2.4577e-01, acc:89.0625%\n",
            "epoch:  3000, cost: 2.4533e-01, acc:89.0625%\n",
            "epoch:  4000, cost: 2.4525e-01, acc:89.0625%\n",
            "epoch:  5000, cost: 2.4524e-01, acc:89.0625%\n",
            "epoch:  6000, cost: 2.4524e-01, acc:89.0625%\n",
            "epoch:  7000, cost: 2.4524e-01, acc:89.0625%\n",
            "epoch:  8000, cost: 2.4524e-01, acc:89.0625%\n",
            "epoch:  9000, cost: 2.4524e-01, acc:89.0625%\n",
            "epoch: 10000, cost: 2.4524e-01, acc:89.0625%\n",
            "epoch: 11000, cost: 2.4524e-01, acc:89.0625%\n",
            "epoch: 12000, cost: 2.4524e-01, acc:89.0625%\n",
            "epoch: 13000, cost: 2.4524e-01, acc:89.0625%\n",
            "epoch: 14000, cost: 2.4524e-01, acc:89.0625%\n",
            "epoch: 15000, cost: 2.4524e-01, acc:89.0625%\n",
            "epoch: 16000, cost: 2.4524e-01, acc:89.0625%\n",
            "epoch: 17000, cost: 2.4524e-01, acc:89.0625%\n",
            "epoch: 18000, cost: 2.4524e-01, acc:89.0625%\n",
            "epoch: 19000, cost: 2.4524e-01, acc:89.0625%\n"
          ]
        }
      ]
    },
    {
      "cell_type": "code",
      "source": [
        "#繪圖\n",
        "import matplotlib.pyplot as plt\n",
        "plt.plot(range(0,20000),cost_hist)\n",
        "\n",
        "#需要轉成numpy才有辦法繪圖\n",
        "#TypeError: can't convert cuda:0 device type tensor to numpy. Use Tensor.cpu() to copy the tensor to host memory first.\n",
        "#cost加上.cpu()\n",
        "\n",
        "#計算梯度會無法繪圖\n",
        "#RuntimeError: Can't call numpy() on Tensor that requires grad. Use tensor.detach().numpy() instead.\n",
        "#再加上detach。cost.cpu().detach()\n",
        "\n",
        "plt.title(\"train cost\")\n",
        "plt.xlabel(\"epoch\")\n",
        "plt.ylabel(\"cost\")"
      ],
      "metadata": {
        "colab": {
          "base_uri": "https://localhost:8080/",
          "height": 489
        },
        "id": "3x8jAVoV2SCj",
        "outputId": "98ccd1e1-bd92-4fe9-c240-4f8c19adb345"
      },
      "execution_count": 16,
      "outputs": [
        {
          "output_type": "execute_result",
          "data": {
            "text/plain": [
              "Text(0, 0.5, 'cost')"
            ]
          },
          "metadata": {},
          "execution_count": 16
        },
        {
          "output_type": "display_data",
          "data": {
            "text/plain": [
              "<Figure size 640x480 with 1 Axes>"
            ],
            "image/png": "[encoded data removed]"
          },
          "metadata": {}
        }
      ]
    },
    {
      "cell_type": "code",
      "source": [
        "plt.plot(range(0,20000),train_acc_hist)\n",
        "plt.title(\"train accuracy\")\n",
        "plt.xlabel(\"epoch\")\n",
        "plt.ylabel(\"train_acc\")\n",
        "\n",
        "#train_acc_hist.append(train_acc)加上.cpu()\n",
        "#TypeError: can't convert cuda:0 device type tensor to numpy. Use Tensor.cpu() to copy the tensor to host memory first."
      ],
      "metadata": {
        "colab": {
          "base_uri": "https://localhost:8080/",
          "height": 489
        },
        "id": "j8Jw3uJdvBn3",
        "outputId": "39e4953d-596d-45ae-f452-3016c07d52fa"
      },
      "execution_count": 17,
      "outputs": [
        {
          "output_type": "execute_result",
          "data": {
            "text/plain": [
              "Text(0, 0.5, 'train_acc')"
            ]
          },
          "metadata": {},
          "execution_count": 17
        },
        {
          "output_type": "display_data",
          "data": {
            "text/plain": [
              "<Figure size 640x480 with 1 Axes>"
            ],
            "image/png": "[encoded data removed]"
          },
          "metadata": {}
        }
      ]
    },
    {
      "cell_type": "code",
      "source": [
        "#哪裡出問題了？？為什麼沒有XX.XX%\n",
        "#tensor(4325., device='cuda:0')\n",
        "\n",
        "\n",
        "model.eval()\n",
        "with torch.inference_mode():\n",
        "  test_pred=model(x_test)\n",
        "  acc=(torch.round(test_pred)==y_test).sum()/len(y_test)*100\n",
        "print(f\"acc: {acc}%\")"
      ],
      "metadata": {
        "colab": {
          "base_uri": "https://localhost:8080/"
        },
        "id": "DOVjQx-NtH_2",
        "outputId": "d08ca93c-600e-4f4d-ce39-a0f70eb21917"
      },
      "execution_count": 18,
      "outputs": [
        {
          "output_type": "stream",
          "name": "stdout",
          "text": [
            "acc: 4420.0%\n"
          ]
        }
      ]
    },
    {
      "cell_type": "code",
      "source": [
        "test_pred, y_test"
      ],
      "metadata": {
        "colab": {
          "base_uri": "https://localhost:8080/"
        },
        "id": "I3gjCTHi_HiF",
        "outputId": "4f87ef28-dcea-4ebf-fa85-ac00835045b6"
      },
      "execution_count": 19,
      "outputs": [
        {
          "output_type": "execute_result",
          "data": {
            "text/plain": [
              "(tensor([[9.7944e-01],\n",
              "         [1.3451e-01],\n",
              "         [4.2640e-02],\n",
              "         [2.5857e-03],\n",
              "         [3.4193e-03],\n",
              "         [9.3846e-01],\n",
              "         [1.1414e-04],\n",
              "         [2.6304e-04],\n",
              "         [2.1224e-01],\n",
              "         [9.9258e-01],\n",
              "         [9.1636e-01],\n",
              "         [5.0638e-01],\n",
              "         [2.9775e-02],\n",
              "         [8.5494e-03],\n",
              "         [9.3200e-02],\n",
              "         [5.9164e-03],\n",
              "         [2.9372e-04],\n",
              "         [8.3862e-02],\n",
              "         [9.5560e-01],\n",
              "         [2.1720e-03],\n",
              "         [6.7493e-01],\n",
              "         [8.9497e-01],\n",
              "         [8.6194e-01],\n",
              "         [2.6263e-01],\n",
              "         [9.4288e-05],\n",
              "         [9.8712e-01],\n",
              "         [8.8239e-01],\n",
              "         [2.0168e-02],\n",
              "         [9.9895e-01],\n",
              "         [6.2811e-02],\n",
              "         [1.3952e-03],\n",
              "         [3.0618e-03],\n",
              "         [2.8695e-01],\n",
              "         [2.3968e-04],\n",
              "         [5.2262e-01],\n",
              "         [9.4458e-01],\n",
              "         [8.9084e-01],\n",
              "         [6.2103e-01],\n",
              "         [9.9875e-01],\n",
              "         [9.8522e-01],\n",
              "         [6.9318e-02],\n",
              "         [3.4486e-04],\n",
              "         [2.1857e-04],\n",
              "         [1.1096e-04],\n",
              "         [2.9721e-04],\n",
              "         [1.9837e-02],\n",
              "         [9.9227e-01],\n",
              "         [6.9915e-03],\n",
              "         [2.1803e-01],\n",
              "         [3.6099e-01],\n",
              "         [8.8089e-01],\n",
              "         [1.1771e-01],\n",
              "         [2.7664e-02],\n",
              "         [9.9888e-01],\n",
              "         [1.4669e-01],\n",
              "         [7.6982e-02],\n",
              "         [1.8779e-06],\n",
              "         [3.4617e-01],\n",
              "         [1.8090e-01],\n",
              "         [1.1682e-02],\n",
              "         [1.7812e-04],\n",
              "         [2.3470e-01],\n",
              "         [6.9330e-03],\n",
              "         [6.3258e-01],\n",
              "         [5.0151e-04],\n",
              "         [3.9889e-03],\n",
              "         [2.4882e-01],\n",
              "         [3.9013e-03],\n",
              "         [9.1901e-01],\n",
              "         [4.4184e-01],\n",
              "         [7.1879e-01],\n",
              "         [5.4166e-02],\n",
              "         [4.0924e-03],\n",
              "         [2.3336e-04],\n",
              "         [7.3797e-01],\n",
              "         [3.9576e-02],\n",
              "         [2.5925e-01],\n",
              "         [3.0697e-03],\n",
              "         [9.9985e-01],\n",
              "         [3.2714e-01]], device='cuda:0', dtype=torch.float64),\n",
              " tensor([1., 1., 0., 0., 0., 1., 0., 0., 0., 1., 1., 1., 0., 0., 0., 0., 0., 0.,\n",
              "         1., 0., 0., 1., 1., 1., 0., 1., 1., 0., 1., 0., 0., 0., 0., 0., 0., 1.,\n",
              "         1., 1., 1., 1., 0., 0., 0., 0., 0., 0., 1., 0., 1., 0., 1., 0., 0., 1.,\n",
              "         0., 0., 0., 0., 0., 0., 0., 0., 0., 1., 0., 0., 1., 0., 1., 1., 1., 0.,\n",
              "         0., 0., 0., 0., 0., 0., 1., 0.], device='cuda:0', dtype=torch.float64))"
            ]
          },
          "metadata": {},
          "execution_count": 19
        }
      ]
    },
    {
      "cell_type": "code",
      "source": [
        "torch.round(test_pred)==y_test"
      ],
      "metadata": {
        "colab": {
          "base_uri": "https://localhost:8080/"
        },
        "id": "DcFjcQ6z_crH",
        "outputId": "4dc1b59a-d605-4280-960e-b0056cda2584"
      },
      "execution_count": 20,
      "outputs": [
        {
          "output_type": "execute_result",
          "data": {
            "text/plain": [
              "tensor([[ True,  True, False,  ..., False,  True, False],\n",
              "        [False, False,  True,  ...,  True, False,  True],\n",
              "        [False, False,  True,  ...,  True, False,  True],\n",
              "        ...,\n",
              "        [False, False,  True,  ...,  True, False,  True],\n",
              "        [ True,  True, False,  ..., False,  True, False],\n",
              "        [False, False,  True,  ...,  True, False,  True]], device='cuda:0')"
            ]
          },
          "metadata": {},
          "execution_count": 20
        }
      ]
    },
    {
      "cell_type": "code",
      "source": [
        "(torch.round(test_pred)==y_test)[1].sum()"
      ],
      "metadata": {
        "colab": {
          "base_uri": "https://localhost:8080/"
        },
        "id": "frROJZRBjxk8",
        "outputId": "9a8a53a7-cc3f-4c19-cf82-d5fc1f14b1cb"
      },
      "execution_count": 35,
      "outputs": [
        {
          "output_type": "execute_result",
          "data": {
            "text/plain": [
              "tensor(52, device='cuda:0')"
            ]
          },
          "metadata": {},
          "execution_count": 35
        }
      ]
    },
    {
      "cell_type": "code",
      "source": [
        "len(torch.round(test_pred)==y_test)"
      ],
      "metadata": {
        "colab": {
          "base_uri": "https://localhost:8080/"
        },
        "id": "4_ira2ZBisUL",
        "outputId": "6524c9c5-9846-4ce0-dac1-4882776697af"
      },
      "execution_count": 21,
      "outputs": [
        {
          "output_type": "execute_result",
          "data": {
            "text/plain": [
              "80"
            ]
          },
          "metadata": {},
          "execution_count": 21
        }
      ]
    },
    {
      "cell_type": "code",
      "source": [
        "(torch.round(test_pred)==y_test).sum()"
      ],
      "metadata": {
        "colab": {
          "base_uri": "https://localhost:8080/"
        },
        "id": "Lfx-sTW6ArBn",
        "outputId": "e345a0ac-4df2-4b19-c5eb-98e3c544e03a"
      },
      "execution_count": 22,
      "outputs": [
        {
          "output_type": "execute_result",
          "data": {
            "text/plain": [
              "tensor(3536, device='cuda:0')"
            ]
          },
          "metadata": {},
          "execution_count": 22
        }
      ]
    },
    {
      "cell_type": "code",
      "source": [
        "(torch.round(test_pred)==y_test).sum()"
      ],
      "metadata": {
        "colab": {
          "base_uri": "https://localhost:8080/"
        },
        "id": "LsMNs6_X_t6C",
        "outputId": "059042df-7cc6-4cca-9286-760602515463"
      },
      "execution_count": 23,
      "outputs": [
        {
          "output_type": "execute_result",
          "data": {
            "text/plain": [
              "tensor(3536, device='cuda:0')"
            ]
          },
          "metadata": {},
          "execution_count": 23
        }
      ]
    },
    {
      "cell_type": "code",
      "source": [
        "len(torch.round(test_pred))"
      ],
      "metadata": {
        "colab": {
          "base_uri": "https://localhost:8080/"
        },
        "id": "_gFbPnBY_4F5",
        "outputId": "1f0345b7-ae94-448c-f392-ab3f6c090893"
      },
      "execution_count": 24,
      "outputs": [
        {
          "output_type": "execute_result",
          "data": {
            "text/plain": [
              "80"
            ]
          },
          "metadata": {},
          "execution_count": 24
        }
      ]
    },
    {
      "cell_type": "code",
      "source": [
        "torch.round(test_pred).sum()"
      ],
      "metadata": {
        "colab": {
          "base_uri": "https://localhost:8080/"
        },
        "id": "OFVq1C11ASi8",
        "outputId": "ae281f65-3bb5-4c7f-e97e-6cce8b9dd450"
      },
      "execution_count": 25,
      "outputs": [
        {
          "output_type": "execute_result",
          "data": {
            "text/plain": [
              "tensor(26., device='cuda:0', dtype=torch.float64)"
            ]
          },
          "metadata": {},
          "execution_count": 25
        }
      ]
    },
    {
      "cell_type": "code",
      "source": [
        "len(y_test)"
      ],
      "metadata": {
        "colab": {
          "base_uri": "https://localhost:8080/"
        },
        "id": "Swn97LNj_7mU",
        "outputId": "59c81ece-9d35-425d-c8b0-08f4c5e1690f"
      },
      "execution_count": 26,
      "outputs": [
        {
          "output_type": "execute_result",
          "data": {
            "text/plain": [
              "80"
            ]
          },
          "metadata": {},
          "execution_count": 26
        }
      ]
    },
    {
      "cell_type": "code",
      "source": [
        "y_test.sum()"
      ],
      "metadata": {
        "colab": {
          "base_uri": "https://localhost:8080/"
        },
        "id": "A_4j2clPAYra",
        "outputId": "ad4ef376-3208-4fd9-922c-38147aa904fa"
      },
      "execution_count": 27,
      "outputs": [
        {
          "output_type": "execute_result",
          "data": {
            "text/plain": [
              "tensor(28., device='cuda:0', dtype=torch.float64)"
            ]
          },
          "metadata": {},
          "execution_count": 27
        }
      ]
    }
  ],
  "metadata": {
    "accelerator": "GPU",
    "colab": {
      "provenance": []
    },
    "kernelspec": {
      "display_name": "Python 3",
      "name": "python3"
    },
    "language_info": {
      "name": "python"
    }
  },
  "nbformat": 4,
  "nbformat_minor": 0
}