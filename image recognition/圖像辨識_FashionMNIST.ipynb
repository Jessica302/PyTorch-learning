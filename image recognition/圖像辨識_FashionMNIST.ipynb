{
  "nbformat": 4,
  "nbformat_minor": 0,
  "metadata": {
    "colab": {
      "provenance": [],
      "gpuType": "T4"
    },
    "kernelspec": {
      "name": "python3",
      "display_name": "Python 3"
    },
    "language_info": {
      "name": "python"
    },
    "accelerator": "GPU",
    "widgets": {
      "application/vnd.jupyter.widget-state+json": {
        "2a77e12b4a924d499e511e08916707b3": {
          "model_module": "@jupyter-widgets/controls",
          "model_name": "HBoxModel",
          "model_module_version": "1.5.0",
          "state": {
            "_dom_classes": [],
            "_model_module": "@jupyter-widgets/controls",
            "_model_module_version": "1.5.0",
            "_model_name": "HBoxModel",
            "_view_count": null,
            "_view_module": "@jupyter-widgets/controls",
            "_view_module_version": "1.5.0",
            "_view_name": "HBoxView",
            "box_style": "",
            "children": [
              "IPY_MODEL_05859ad5d9c84d5fa2a653accd3382d3",
              "IPY_MODEL_e8990fd7793345d88034bd4d3b9c3af3",
              "IPY_MODEL_c94dbb6287964a78b402c78bb5fa34d0"
            ],
            "layout": "IPY_MODEL_b2cd92bd482d45c0abc21d189b8d3a4a"
          }
        },
        "05859ad5d9c84d5fa2a653accd3382d3": {
          "model_module": "@jupyter-widgets/controls",
          "model_name": "HTMLModel",
          "model_module_version": "1.5.0",
          "state": {
            "_dom_classes": [],
            "_model_module": "@jupyter-widgets/controls",
            "_model_module_version": "1.5.0",
            "_model_name": "HTMLModel",
            "_view_count": null,
            "_view_module": "@jupyter-widgets/controls",
            "_view_module_version": "1.5.0",
            "_view_name": "HTMLView",
            "description": "",
            "description_tooltip": null,
            "layout": "IPY_MODEL_910d0e85c896494ea57a8ff04118ddb0",
            "placeholder": "​",
            "style": "IPY_MODEL_25ac4f56d4924579bb1a639fadd5b2cb",
            "value": "100%"
          }
        },
        "e8990fd7793345d88034bd4d3b9c3af3": {
          "model_module": "@jupyter-widgets/controls",
          "model_name": "FloatProgressModel",
          "model_module_version": "1.5.0",
          "state": {
            "_dom_classes": [],
            "_model_module": "@jupyter-widgets/controls",
            "_model_module_version": "1.5.0",
            "_model_name": "FloatProgressModel",
            "_view_count": null,
            "_view_module": "@jupyter-widgets/controls",
            "_view_module_version": "1.5.0",
            "_view_name": "ProgressView",
            "bar_style": "success",
            "description": "",
            "description_tooltip": null,
            "layout": "IPY_MODEL_b61aa8690f6846b2916ba284b413e766",
            "max": 3,
            "min": 0,
            "orientation": "horizontal",
            "style": "IPY_MODEL_83107fff4dca45a28cbaa66ae08bf797",
            "value": 3
          }
        },
        "c94dbb6287964a78b402c78bb5fa34d0": {
          "model_module": "@jupyter-widgets/controls",
          "model_name": "HTMLModel",
          "model_module_version": "1.5.0",
          "state": {
            "_dom_classes": [],
            "_model_module": "@jupyter-widgets/controls",
            "_model_module_version": "1.5.0",
            "_model_name": "HTMLModel",
            "_view_count": null,
            "_view_module": "@jupyter-widgets/controls",
            "_view_module_version": "1.5.0",
            "_view_name": "HTMLView",
            "description": "",
            "description_tooltip": null,
            "layout": "IPY_MODEL_742d03de0c7d4d86a6834ed02715c547",
            "placeholder": "​",
            "style": "IPY_MODEL_cb41221894cd4a83ae14360767443c57",
            "value": " 3/3 [00:26&lt;00:00,  8.73s/it]"
          }
        },
        "b2cd92bd482d45c0abc21d189b8d3a4a": {
          "model_module": "@jupyter-widgets/base",
          "model_name": "LayoutModel",
          "model_module_version": "1.2.0",
          "state": {
            "_model_module": "@jupyter-widgets/base",
            "_model_module_version": "1.2.0",
            "_model_name": "LayoutModel",
            "_view_count": null,
            "_view_module": "@jupyter-widgets/base",
            "_view_module_version": "1.2.0",
            "_view_name": "LayoutView",
            "align_content": null,
            "align_items": null,
            "align_self": null,
            "border": null,
            "bottom": null,
            "display": null,
            "flex": null,
            "flex_flow": null,
            "grid_area": null,
            "grid_auto_columns": null,
            "grid_auto_flow": null,
            "grid_auto_rows": null,
            "grid_column": null,
            "grid_gap": null,
            "grid_row": null,
            "grid_template_areas": null,
            "grid_template_columns": null,
            "grid_template_rows": null,
            "height": null,
            "justify_content": null,
            "justify_items": null,
            "left": null,
            "margin": null,
            "max_height": null,
            "max_width": null,
            "min_height": null,
            "min_width": null,
            "object_fit": null,
            "object_position": null,
            "order": null,
            "overflow": null,
            "overflow_x": null,
            "overflow_y": null,
            "padding": null,
            "right": null,
            "top": null,
            "visibility": null,
            "width": null
          }
        },
        "910d0e85c896494ea57a8ff04118ddb0": {
          "model_module": "@jupyter-widgets/base",
          "model_name": "LayoutModel",
          "model_module_version": "1.2.0",
          "state": {
            "_model_module": "@jupyter-widgets/base",
            "_model_module_version": "1.2.0",
            "_model_name": "LayoutModel",
            "_view_count": null,
            "_view_module": "@jupyter-widgets/base",
            "_view_module_version": "1.2.0",
            "_view_name": "LayoutView",
            "align_content": null,
            "align_items": null,
            "align_self": null,
            "border": null,
            "bottom": null,
            "display": null,
            "flex": null,
            "flex_flow": null,
            "grid_area": null,
            "grid_auto_columns": null,
            "grid_auto_flow": null,
            "grid_auto_rows": null,
            "grid_column": null,
            "grid_gap": null,
            "grid_row": null,
            "grid_template_areas": null,
            "grid_template_columns": null,
            "grid_template_rows": null,
            "height": null,
            "justify_content": null,
            "justify_items": null,
            "left": null,
            "margin": null,
            "max_height": null,
            "max_width": null,
            "min_height": null,
            "min_width": null,
            "object_fit": null,
            "object_position": null,
            "order": null,
            "overflow": null,
            "overflow_x": null,
            "overflow_y": null,
            "padding": null,
            "right": null,
            "top": null,
            "visibility": null,
            "width": null
          }
        },
        "25ac4f56d4924579bb1a639fadd5b2cb": {
          "model_module": "@jupyter-widgets/controls",
          "model_name": "DescriptionStyleModel",
          "model_module_version": "1.5.0",
          "state": {
            "_model_module": "@jupyter-widgets/controls",
            "_model_module_version": "1.5.0",
            "_model_name": "DescriptionStyleModel",
            "_view_count": null,
            "_view_module": "@jupyter-widgets/base",
            "_view_module_version": "1.2.0",
            "_view_name": "StyleView",
            "description_width": ""
          }
        },
        "b61aa8690f6846b2916ba284b413e766": {
          "model_module": "@jupyter-widgets/base",
          "model_name": "LayoutModel",
          "model_module_version": "1.2.0",
          "state": {
            "_model_module": "@jupyter-widgets/base",
            "_model_module_version": "1.2.0",
            "_model_name": "LayoutModel",
            "_view_count": null,
            "_view_module": "@jupyter-widgets/base",
            "_view_module_version": "1.2.0",
            "_view_name": "LayoutView",
            "align_content": null,
            "align_items": null,
            "align_self": null,
            "border": null,
            "bottom": null,
            "display": null,
            "flex": null,
            "flex_flow": null,
            "grid_area": null,
            "grid_auto_columns": null,
            "grid_auto_flow": null,
            "grid_auto_rows": null,
            "grid_column": null,
            "grid_gap": null,
            "grid_row": null,
            "grid_template_areas": null,
            "grid_template_columns": null,
            "grid_template_rows": null,
            "height": null,
            "justify_content": null,
            "justify_items": null,
            "left": null,
            "margin": null,
            "max_height": null,
            "max_width": null,
            "min_height": null,
            "min_width": null,
            "object_fit": null,
            "object_position": null,
            "order": null,
            "overflow": null,
            "overflow_x": null,
            "overflow_y": null,
            "padding": null,
            "right": null,
            "top": null,
            "visibility": null,
            "width": null
          }
        },
        "83107fff4dca45a28cbaa66ae08bf797": {
          "model_module": "@jupyter-widgets/controls",
          "model_name": "ProgressStyleModel",
          "model_module_version": "1.5.0",
          "state": {
            "_model_module": "@jupyter-widgets/controls",
            "_model_module_version": "1.5.0",
            "_model_name": "ProgressStyleModel",
            "_view_count": null,
            "_view_module": "@jupyter-widgets/base",
            "_view_module_version": "1.2.0",
            "_view_name": "StyleView",
            "bar_color": null,
            "description_width": ""
          }
        },
        "742d03de0c7d4d86a6834ed02715c547": {
          "model_module": "@jupyter-widgets/base",
          "model_name": "LayoutModel",
          "model_module_version": "1.2.0",
          "state": {
            "_model_module": "@jupyter-widgets/base",
            "_model_module_version": "1.2.0",
            "_model_name": "LayoutModel",
            "_view_count": null,
            "_view_module": "@jupyter-widgets/base",
            "_view_module_version": "1.2.0",
            "_view_name": "LayoutView",
            "align_content": null,
            "align_items": null,
            "align_self": null,
            "border": null,
            "bottom": null,
            "display": null,
            "flex": null,
            "flex_flow": null,
            "grid_area": null,
            "grid_auto_columns": null,
            "grid_auto_flow": null,
            "grid_auto_rows": null,
            "grid_column": null,
            "grid_gap": null,
            "grid_row": null,
            "grid_template_areas": null,
            "grid_template_columns": null,
            "grid_template_rows": null,
            "height": null,
            "justify_content": null,
            "justify_items": null,
            "left": null,
            "margin": null,
            "max_height": null,
            "max_width": null,
            "min_height": null,
            "min_width": null,
            "object_fit": null,
            "object_position": null,
            "order": null,
            "overflow": null,
            "overflow_x": null,
            "overflow_y": null,
            "padding": null,
            "right": null,
            "top": null,
            "visibility": null,
            "width": null
          }
        },
        "cb41221894cd4a83ae14360767443c57": {
          "model_module": "@jupyter-widgets/controls",
          "model_name": "DescriptionStyleModel",
          "model_module_version": "1.5.0",
          "state": {
            "_model_module": "@jupyter-widgets/controls",
            "_model_module_version": "1.5.0",
            "_model_name": "DescriptionStyleModel",
            "_view_count": null,
            "_view_module": "@jupyter-widgets/base",
            "_view_module_version": "1.2.0",
            "_view_name": "StyleView",
            "description_width": ""
          }
        }
      }
    }
  },
  "cells": [
    {
      "cell_type": "markdown",
      "source": [
        "#一、載入訓練跟測試集資料&顯示圖片"
      ],
      "metadata": {
        "id": "3Jo-sTeeK3Wu"
      }
    },
    {
      "cell_type": "code",
      "execution_count": 44,
      "metadata": {
        "id": "NN-tO41bMijK"
      },
      "outputs": [],
      "source": [
        "from torchvision import datasets\n",
        "from torchvision.transforms import ToTensor"
      ]
    },
    {
      "cell_type": "code",
      "source": [
        "train_data=datasets.FashionMNIST(root=\"image\",train=True,download=True,transform=ToTensor())\n",
        "test_data=datasets.FashionMNIST(root=\"image\",train=False,download=True,transform=ToTensor())"
      ],
      "metadata": {
        "id": "GYJIKQwflsfX"
      },
      "execution_count": 45,
      "outputs": []
    },
    {
      "cell_type": "code",
      "source": [
        "import torch\n",
        "train_dataLoader= torch.utils.data.DataLoader(train_data,batch_size=32,shuffle=True)"
      ],
      "metadata": {
        "id": "1trK-TZi1wJv"
      },
      "execution_count": 46,
      "outputs": []
    },
    {
      "cell_type": "code",
      "source": [
        "import random\n",
        "import matplotlib.pyplot as plt\n",
        "\n",
        "torch.manual_seed(87)\n",
        "first_batch=next(iter(train_dataLoader))\n",
        "\n",
        "index=random.randint(0,len(first_batch)-1)\n",
        "img_batch,label_batch=first_batch\n",
        "img,label=img_batch[index],label_batch[index]\n",
        "plt.imshow(img.permute(1,2,0))\n",
        "name=train_data.classes\n",
        "plt.title(name[label])"
      ],
      "metadata": {
        "colab": {
          "base_uri": "https://localhost:8080/",
          "height": 469
        },
        "id": "-5JM-FRQ-QB-",
        "outputId": "57e537bb-12b7-4696-a5e3-b025152c80cb"
      },
      "execution_count": 47,
      "outputs": [
        {
          "output_type": "execute_result",
          "data": {
            "text/plain": [
              "Text(0.5, 1.0, 'Bag')"
            ]
          },
          "metadata": {},
          "execution_count": 47
        },
        {
          "output_type": "display_data",
          "data": {
            "text/plain": [
              "<Figure size 640x480 with 1 Axes>"
            ],
            "image/png": "[encoded data removed]"
          },
          "metadata": {}
        }
      ]
    },
    {
      "cell_type": "markdown",
      "source": [
        "#二、定義模型"
      ],
      "metadata": {
        "id": "KvhjB-ObLGCb"
      }
    },
    {
      "cell_type": "code",
      "source": [
        "from torch import nn\n",
        "class imageClassificationModel(nn.Module):\n",
        "  def __init__(self,input,output):\n",
        "    super().__init__()\n",
        "    self.sequential=nn.Sequential(\n",
        "        nn.Flatten(start_dim=1, end_dim=-1),\n",
        "        nn.Linear(in_features=input,out_features=output),\n",
        "        #nn.Softmax(dim=1)\n",
        "    )\n",
        "  def forward(self,x):\n",
        "    return self.sequential(x)"
      ],
      "metadata": {
        "id": "rj8uGONAgoLQ"
      },
      "execution_count": 48,
      "outputs": []
    },
    {
      "cell_type": "code",
      "source": [
        "model = imageClassificationModel(784,10)\n",
        "y_pred=model(img_batch)"
      ],
      "metadata": {
        "id": "IKAxUDYigsMu"
      },
      "execution_count": 49,
      "outputs": []
    },
    {
      "cell_type": "markdown",
      "source": [
        "#三、不斷更新"
      ],
      "metadata": {
        "id": "wX0Rh_6ddQmj"
      }
    },
    {
      "cell_type": "code",
      "source": [
        "model.to(\"cuda\")"
      ],
      "metadata": {
        "colab": {
          "base_uri": "https://localhost:8080/"
        },
        "id": "48BqkaF0hX2t",
        "outputId": "90a02113-62a4-4196-9bc6-68ac64d12fdb"
      },
      "execution_count": 50,
      "outputs": [
        {
          "output_type": "execute_result",
          "data": {
            "text/plain": [
              "imageClassificationModel(\n",
              "  (sequential): Sequential(\n",
              "    (0): Flatten(start_dim=1, end_dim=-1)\n",
              "    (1): Linear(in_features=784, out_features=10, bias=True)\n",
              "  )\n",
              ")"
            ]
          },
          "metadata": {},
          "execution_count": 50
        }
      ]
    },
    {
      "cell_type": "code",
      "source": [
        "from tqdm.auto import tqdm\n",
        "for epoch in tqdm(range(3)):\n",
        "\n",
        "  train_cost=0\n",
        "  train_acc=0\n",
        "  for (img_batch, label_batch) in (train_dataLoader):\n",
        "\n",
        "    img_batch=img_batch.to(\"cuda\")\n",
        "    label_batch=label_batch.to(\"cuda\")\n",
        "\n",
        "    cost_fn=nn.CrossEntropyLoss()\n",
        "    y_pred=model(img_batch)\n",
        "    cost=cost_fn(y_pred,label_batch)\n",
        "\n",
        "    optimizer=torch.optim.SGD(model.parameters(),lr=0.01)\n",
        "    optimizer.zero_grad()\n",
        "    cost.backward()\n",
        "    optimizer.step()\n",
        "\n",
        "    train_cost+=cost\n",
        "    acc=((y_pred.argmax(dim=1)==label_batch).sum()/len(label_batch))*100\n",
        "    train_acc+=acc\n",
        "\n",
        "  avg_cost=train_cost/len(train_dataLoader)\n",
        "  avg_acc=train_acc/len(train_dataLoader)\n",
        "\n",
        "  print(f\"epoch:{epoch},avg_cost:{avg_cost:.4f},avg_acc={avg_acc:.2f}\")"
      ],
      "metadata": {
        "colab": {
          "base_uri": "https://localhost:8080/",
          "height": 100,
          "referenced_widgets": [
            "2a77e12b4a924d499e511e08916707b3",
            "05859ad5d9c84d5fa2a653accd3382d3",
            "e8990fd7793345d88034bd4d3b9c3af3",
            "c94dbb6287964a78b402c78bb5fa34d0",
            "b2cd92bd482d45c0abc21d189b8d3a4a",
            "910d0e85c896494ea57a8ff04118ddb0",
            "25ac4f56d4924579bb1a639fadd5b2cb",
            "b61aa8690f6846b2916ba284b413e766",
            "83107fff4dca45a28cbaa66ae08bf797",
            "742d03de0c7d4d86a6834ed02715c547",
            "cb41221894cd4a83ae14360767443c57"
          ]
        },
        "id": "2_i1SwcyJk7F",
        "outputId": "7bc9d0e8-33ef-4a1c-a3bf-8a3f183ade78"
      },
      "execution_count": 51,
      "outputs": [
        {
          "output_type": "display_data",
          "data": {
            "text/plain": [
              "  0%|          | 0/3 [00:00<?, ?it/s]"
            ],
            "application/vnd.jupyter.widget-view+json": {
              "version_major": 2,
              "version_minor": 0,
              "model_id": "2a77e12b4a924d499e511e08916707b3"
            }
          },
          "metadata": {}
        },
        {
          "output_type": "stream",
          "name": "stdout",
          "text": [
            "epoch:0,avg_cost:0.8163,avg_acc=74.87\n",
            "epoch:1,avg_cost:0.5886,avg_acc=80.96\n",
            "epoch:2,avg_cost:0.5400,avg_acc=82.36\n"
          ]
        }
      ]
    }
  ]
}